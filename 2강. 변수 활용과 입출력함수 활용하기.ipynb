{
 "cells": [
  {
   "cell_type": "code",
   "execution_count": 1,
   "id": "3659aa48",
   "metadata": {},
   "outputs": [
    {
     "name": "stdout",
     "output_type": "stream",
     "text": [
      "var1: 10\n",
      "var2: 20\n",
      "var3: 30\n",
      "var4: 30\n"
     ]
    }
   ],
   "source": [
    "# 변수 사용법과 입출력 배우기\n",
    "\n",
    "# 예 1) var1 이름으로 변수를 만들고 숫자 10을 할당하세요\n",
    "var1 = 10\n",
    "print('var1:' , var1)\n",
    "\n",
    "# 예2) var2 이름으로 변수를 만들고 숫자 20을 할당하세요\n",
    "var2 = 20\n",
    "print('var2:', var2)\n",
    "\n",
    "# 예3) 여러 변수에 한꺼번에 값 할당하기\n",
    "var3=var4=30\n",
    "print('var3:' , var3)\n",
    "print('var4:' , var4)"
   ]
  },
  {
   "cell_type": "code",
   "execution_count": 2,
   "id": "eb6ff907",
   "metadata": {},
   "outputs": [
    {
     "name": "stdout",
     "output_type": "stream",
     "text": [
      "3\n",
      "30\n",
      "200\n",
      "0.5\n"
     ]
    }
   ],
   "source": [
    "# 다양한 산술 연산자 사용하기\n",
    "print( 1 + 2 )\n",
    "print( var1 + var2 )\n",
    "print( var1 * var2 )\n",
    "print( var1 / var2 )"
   ]
  },
  {
   "cell_type": "code",
   "execution_count": 3,
   "id": "92f999fe",
   "metadata": {},
   "outputs": [
    {
     "name": "stdout",
     "output_type": "stream",
     "text": [
      "var5 / var6 나머지값: 2\n"
     ]
    }
   ],
   "source": [
    "# % 연산자 (나머지 값 구하기) 사용하기\n",
    "var5 = 3\n",
    "var6 = 14\n",
    "print('var5 / var6 나머지값:' , var6 % var5)"
   ]
  },
  {
   "cell_type": "markdown",
   "id": "7fe81d07",
   "metadata": {},
   "source": [
    "### 주피터 노트북 코드창에 행 숫자 보이게 하는 방법\n",
    "- 메뉴-View-Toggle Line Numbers 클릭\n",
    "\n",
    "- 단축키: Shift + L\n",
    "\n",
    "- 해제하려면 다시 누르면 됨"
   ]
  },
  {
   "cell_type": "code",
   "execution_count": 7,
   "id": "7d9285d2",
   "metadata": {},
   "outputs": [
    {
     "name": "stdout",
     "output_type": "stream",
     "text": [
      "var1 변수에 있는 값은 바로  100  입니다\n"
     ]
    }
   ],
   "source": [
    "# print() 함수 사용하기 - 변수에 데이터를 넣고 다른 문자열과 함께 출력\n",
    "\n",
    "var1 = 100\n",
    "print('var1 변수에 있는 값은 바로 ', var1 , ' 입니다')"
   ]
  },
  {
   "cell_type": "code",
   "execution_count": 8,
   "id": "ee192d48",
   "metadata": {},
   "outputs": [
    {
     "name": "stdout",
     "output_type": "stream",
     "text": [
      " 어휴...배가 너무 고파서 밥을 5 그릇도 먹을듯....ㅠㅠ\n"
     ]
    }
   ],
   "source": [
    "# print() 함수 사용하기 - 문자열 포매팅 활용하기\n",
    "bab = 5\n",
    "print(' 어휴...배가 너무 고파서 밥을 %s 그릇도 먹을듯....ㅠㅠ' %bab)"
   ]
  },
  {
   "cell_type": "code",
   "execution_count": 11,
   "id": "1f87114d",
   "metadata": {},
   "outputs": [
    {
     "name": "stdout",
     "output_type": "stream",
     "text": [
      "이번 시험에서 영어점수는 20 점, 수학점수는 10 점 올랐음!\n"
     ]
    }
   ],
   "source": [
    "# print() 함수 - 문자열 포매팅 활용하기-2\n",
    "eng = 20\n",
    "math = 10\n",
    "\n",
    "print('이번 시험에서 영어점수는 %s 점, 수학점수는 %s 점 올랐음!' %(eng, math))"
   ]
  },
  {
   "cell_type": "code",
   "execution_count": 12,
   "id": "995677d6",
   "metadata": {},
   "outputs": [
    {
     "name": "stdout",
     "output_type": "stream",
     "text": [
      "물가가 20% 오른다는데 내월급도 10%라도 올랐으면..ㅠㅠ\n"
     ]
    }
   ],
   "source": [
    "# print() 함수 - 문자열 포매팅 활용하기-3\n",
    "price = 20\n",
    "sal = 10\n",
    "\n",
    "print('물가가 %s%% 오른다는데 내월급도 %s%%라도 올랐으면..ㅠㅠ' %(price,sal))"
   ]
  },
  {
   "cell_type": "code",
   "execution_count": 13,
   "id": "4f260b69",
   "metadata": {},
   "outputs": [
    {
     "name": "stdout",
     "output_type": "stream",
     "text": [
      "방법3: 제 이름은 서진수 입니다\n"
     ]
    }
   ],
   "source": [
    "# print() 함수 - 문자열 포매팅 - 플레이스홀드 사용하기\n",
    "name = '서진수'\n",
    "s = '방법3: 제 이름은 {} 입니다'\n",
    "print(s.format(name))"
   ]
  },
  {
   "cell_type": "code",
   "execution_count": 14,
   "id": "8c0c3597",
   "metadata": {},
   "outputs": [
    {
     "name": "stdout",
     "output_type": "stream",
     "text": [
      "방법4: 제 이름은 서진수이고 취미는 낚시이며 사는지역은 경기도 입니다\n"
     ]
    }
   ],
   "source": [
    "# 여러개의 플레이스 홀드도 사용가능합니다\n",
    "name = '서진수'\n",
    "hobby = '낚시'\n",
    "home = '경기도'\n",
    "s = '방법4: 제 이름은 {}이고 취미는 {}이며 사는지역은 {} 입니다'\n",
    "print(s.format(name, hobby, home))"
   ]
  },
  {
   "cell_type": "code",
   "execution_count": 15,
   "id": "f3ee2442",
   "metadata": {},
   "outputs": [
    {
     "name": "stdout",
     "output_type": "stream",
     "text": [
      "짜장면\n"
     ]
    }
   ],
   "source": [
    "# input 함수로 정보 입력받기\n",
    "menu = input()"
   ]
  },
  {
   "cell_type": "code",
   "execution_count": 18,
   "id": "70431f45",
   "metadata": {},
   "outputs": [
    {
     "name": "stdout",
     "output_type": "stream",
     "text": [
      "오늘 점심 뭐 먹을까요? 짬뽕\n"
     ]
    }
   ],
   "source": [
    "# input() 함수로 안내 멘트 보이기\n",
    "menu_2 = input('오늘 점심 뭐 먹을까요? ')"
   ]
  },
  {
   "cell_type": "code",
   "execution_count": 19,
   "id": "1e3d4de4",
   "metadata": {},
   "outputs": [
    {
     "name": "stdout",
     "output_type": "stream",
     "text": [
      "\n",
      "1.서울    2.대전    3.광주    4.부산    5.경남\n",
      "6.경북    7.충청    8.전남    9.전북   10.제주\n",
      "               \n",
      "위 지역 중 검색을 원하는 지역의 번호를 입력하세요: 1\n"
     ]
    }
   ],
   "source": [
    "# 출력되는 양식을 지정하여 정보를 입력받기\n",
    "\n",
    "area_no = input( '''\n",
    "1.서울    2.대전    3.광주    4.부산    5.경남\n",
    "6.경북    7.충청    8.전남    9.전북   10.제주\n",
    "               \n",
    "위 지역 중 검색을 원하는 지역의 번호를 입력하세요: ''')"
   ]
  },
  {
   "cell_type": "code",
   "execution_count": 20,
   "id": "d1fac8e3",
   "metadata": {},
   "outputs": [
    {
     "name": "stdout",
     "output_type": "stream",
     "text": [
      "1. 이름을 입력하세요:최예름\n",
      "2. 취미를 입력하세요:독서\n",
      "최예름 님의 취미는 독서 입니다\n",
      "최예름 님의 취미는 독서 입니다\n",
      "최예름 님의 취미는 독서 입니다\n"
     ]
    }
   ],
   "source": [
    "# input() 함수와 print() 함수 활용하기\n",
    "name = input('1. 이름을 입력하세요:')\n",
    "hobby = input('2. 취미를 입력하세요:')\n",
    "\n",
    "# 기본 출력 방법\n",
    "print(name, '님의 취미는',hobby,'입니다')\n",
    "\n",
    "# 문자열 포매팅 방법\n",
    "print('%s 님의 취미는 %s 입니다' %(name,hobby))\n",
    "\n",
    "# 플레이스 홀드 이용방법\n",
    "s='{} 님의 취미는 {} 입니다'\n",
    "print(s.format(name, hobby))"
   ]
  }
 ],
 "metadata": {
  "kernelspec": {
   "display_name": "Python 3 (ipykernel)",
   "language": "python",
   "name": "python3"
  },
  "language_info": {
   "codemirror_mode": {
    "name": "ipython",
    "version": 3
   },
   "file_extension": ".py",
   "mimetype": "text/x-python",
   "name": "python",
   "nbconvert_exporter": "python",
   "pygments_lexer": "ipython3",
   "version": "3.9.12"
  }
 },
 "nbformat": 4,
 "nbformat_minor": 5
}
