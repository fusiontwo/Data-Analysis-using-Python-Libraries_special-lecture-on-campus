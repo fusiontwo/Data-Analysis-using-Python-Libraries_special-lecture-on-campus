{
 "cells": [
  {
   "cell_type": "markdown",
   "id": "e871e19c",
   "metadata": {},
   "source": [
    "### numpy와 pandas 비교\n",
    "- numpy에는 데이터 유형이 같은 것만 넣을 수 있다. -> 속도 느림\n",
    "- pandas에는 데이터 유형이 달라도 넣을 수 있다. -> 속도 빠름"
   ]
  },
  {
   "cell_type": "markdown",
   "id": "d9c16b50",
   "metadata": {},
   "source": [
    "### 정형 데이터와 비정형 데이터\n",
    "- 정형 데이터 ex) 표\n",
    "- 비정형 데이터 ex) 비정형 텍스트, 비정형 이미지, 비정형 영상, 비정형 음성"
   ]
  },
  {
   "cell_type": "markdown",
   "id": "ab628ad0",
   "metadata": {},
   "source": [
    "### pandas 설치와 정형 데이터\n",
    "- cmd 창에 pip install pandas 입력\n",
    "- 정형 데이터를 handling 할 때 pandas를 사용한다."
   ]
  },
  {
   "cell_type": "markdown",
   "id": "958dc413",
   "metadata": {},
   "source": [
    "### series와 Data Frame\n",
    "- pandas : 서로 다른 유형의 데이터를 표로 관리한다.\n",
    "- 표의 column이 1개 -> series\n",
    "- 표의 column이 2개 -> Data Frame"
   ]
  },
  {
   "cell_type": "code",
   "execution_count": 4,
   "id": "834fdb4d",
   "metadata": {},
   "outputs": [
    {
     "data": {
      "text/plain": [
       "0      홍길동\n",
       "1      전우치\n",
       "2      강감찬\n",
       "3    스티브잡스\n",
       "dtype: object"
      ]
     },
     "execution_count": 4,
     "metadata": {},
     "output_type": "execute_result"
    }
   ],
   "source": [
    "# pandas ex_1\n",
    "import pandas as pd\n",
    "\n",
    "# 1. 기본문법\n",
    "member = pd.Series(['홍길동','전우치','강감찬','스티브잡스'])\n",
    "member"
   ]
  },
  {
   "cell_type": "code",
   "execution_count": 5,
   "id": "cd79ce4b",
   "metadata": {},
   "outputs": [
    {
     "data": {
      "text/plain": [
       "1번      홍길동\n",
       "2번      전우치\n",
       "3번      강감찬\n",
       "4번    스티브잡스\n",
       "dtype: object"
      ]
     },
     "execution_count": 5,
     "metadata": {},
     "output_type": "execute_result"
    }
   ],
   "source": [
    "# pandas ex_2\n",
    "import pandas as pd\n",
    "\n",
    "member=pd.Series(['홍길동','전우치','강감찬','스티브잡스'],\n",
    "                 index = ['1번','2번','3번','4번'])\n",
    "member"
   ]
  },
  {
   "cell_type": "code",
   "execution_count": 6,
   "id": "1a4afc6c",
   "metadata": {},
   "outputs": [
    {
     "data": {
      "text/plain": [
       "홍길동    100\n",
       "일지매    130\n",
       "전우치    120\n",
       "dtype: int64"
      ]
     },
     "execution_count": 6,
     "metadata": {},
     "output_type": "execute_result"
    }
   ],
   "source": [
    "# pandas ex_3\n",
    "# 딕셔너리 형으로 생성하기\n",
    "\n",
    "sal_1 = {'홍길동':100, '일지매' : 130, '전우치' : 120 }\n",
    "sal_2 = pd.Series(sal_1)\n",
    "sal_2"
   ]
  },
  {
   "cell_type": "code",
   "execution_count": 7,
   "id": "2781018f",
   "metadata": {},
   "outputs": [
    {
     "data": {
      "text/plain": [
       "1번      홍길동\n",
       "2번      전우치\n",
       "3번      강감찬\n",
       "4번    스티브잡스\n",
       "dtype: object"
      ]
     },
     "execution_count": 7,
     "metadata": {},
     "output_type": "execute_result"
    }
   ],
   "source": [
    "# pandas ex_4\n",
    "import pandas as pd\n",
    "\n",
    "member = pd.Series(['홍길동','전우치','강감찬','스티브잡스'],\n",
    "                  index = ['1번','2번','3번','4번'])\n",
    "member"
   ]
  },
  {
   "cell_type": "code",
   "execution_count": 8,
   "id": "ae6c5a3f",
   "metadata": {},
   "outputs": [
    {
     "data": {
      "text/plain": [
       "'홍길동'"
      ]
     },
     "execution_count": 8,
     "metadata": {},
     "output_type": "execute_result"
    }
   ],
   "source": [
    "member['1번']"
   ]
  },
  {
   "cell_type": "code",
   "execution_count": 9,
   "id": "304f5182",
   "metadata": {},
   "outputs": [
    {
     "data": {
      "text/plain": [
       "1번    홍길동\n",
       "3번    강감찬\n",
       "dtype: object"
      ]
     },
     "execution_count": 9,
     "metadata": {},
     "output_type": "execute_result"
    }
   ],
   "source": [
    "member[ ['1번','3번'] ]"
   ]
  },
  {
   "cell_type": "code",
   "execution_count": 10,
   "id": "397c0def",
   "metadata": {},
   "outputs": [
    {
     "data": {
      "text/plain": [
       "일지매    130\n",
       "전우치    120\n",
       "홍길동    100\n",
       "dtype: int64"
      ]
     },
     "execution_count": 10,
     "metadata": {},
     "output_type": "execute_result"
    }
   ],
   "source": [
    "# pandas ex_5\n",
    "sal_1 = {'일지매' : 130, '전우치' : 120, '홍길동' : 100}\n",
    "sal_2 = pd.Series(sal_1)\n",
    "sal_2"
   ]
  },
  {
   "cell_type": "code",
   "execution_count": 11,
   "id": "a430fa98",
   "metadata": {},
   "outputs": [
    {
     "data": {
      "text/plain": [
       "홍길동    10\n",
       "전우치    12\n",
       "강감찬    20\n",
       "dtype: int64"
      ]
     },
     "execution_count": 11,
     "metadata": {},
     "output_type": "execute_result"
    }
   ],
   "source": [
    "sal_3 = {'홍길동' : 10, '전우치' : 12, '강감찬' : 20}\n",
    "sal_4 = pd.Series(sal_3)\n",
    "sal_4"
   ]
  },
  {
   "cell_type": "code",
   "execution_count": 13,
   "id": "97e143de",
   "metadata": {},
   "outputs": [
    {
     "name": "stdout",
     "output_type": "stream",
     "text": [
      "강감찬      NaN\n",
      "일지매      NaN\n",
      "전우치    132.0\n",
      "홍길동    110.0\n",
      "dtype: float64\n"
     ]
    }
   ],
   "source": [
    "print(sal_2 + sal_4) # 데이터 개수, 데이터 유형이 동일한 것끼리 연산"
   ]
  },
  {
   "cell_type": "code",
   "execution_count": 14,
   "id": "d5a2dd0b",
   "metadata": {},
   "outputs": [
    {
     "data": {
      "text/html": [
       "<div>\n",
       "<style scoped>\n",
       "    .dataframe tbody tr th:only-of-type {\n",
       "        vertical-align: middle;\n",
       "    }\n",
       "\n",
       "    .dataframe tbody tr th {\n",
       "        vertical-align: top;\n",
       "    }\n",
       "\n",
       "    .dataframe thead th {\n",
       "        text-align: right;\n",
       "    }\n",
       "</style>\n",
       "<table border=\"1\" class=\"dataframe\">\n",
       "  <thead>\n",
       "    <tr style=\"text-align: right;\">\n",
       "      <th></th>\n",
       "      <th>번호</th>\n",
       "      <th>이름</th>\n",
       "      <th>생년</th>\n",
       "    </tr>\n",
       "  </thead>\n",
       "  <tbody>\n",
       "    <tr>\n",
       "      <th>0</th>\n",
       "      <td>1번</td>\n",
       "      <td>홍길동</td>\n",
       "      <td>1975</td>\n",
       "    </tr>\n",
       "    <tr>\n",
       "      <th>1</th>\n",
       "      <td>2번</td>\n",
       "      <td>전우치</td>\n",
       "      <td>1980</td>\n",
       "    </tr>\n",
       "    <tr>\n",
       "      <th>2</th>\n",
       "      <td>3번</td>\n",
       "      <td>강감찬</td>\n",
       "      <td>1992</td>\n",
       "    </tr>\n",
       "  </tbody>\n",
       "</table>\n",
       "</div>"
      ],
      "text/plain": [
       "   번호   이름    생년\n",
       "0  1번  홍길동  1975\n",
       "1  2번  전우치  1980\n",
       "2  3번  강감찬  1992"
      ]
     },
     "execution_count": 14,
     "metadata": {},
     "output_type": "execute_result"
    }
   ],
   "source": [
    "# pandas ex_6\n",
    "# 딕셔너리와 리스트를 활용하여 Data Frame 생성하기\n",
    "\n",
    "member3 = {'번호' : ['1번','2번','3번'] ,\n",
    "           '이름' : ['홍길동','전우치','강감찬'] ,\n",
    "           '생년' : [1975, 1980, 1992] }\n",
    "member4 = pd.DataFrame(member3)\n",
    "member4"
   ]
  },
  {
   "cell_type": "code",
   "execution_count": 15,
   "id": "f1bd142b",
   "metadata": {},
   "outputs": [
    {
     "data": {
      "text/html": [
       "<div>\n",
       "<style scoped>\n",
       "    .dataframe tbody tr th:only-of-type {\n",
       "        vertical-align: middle;\n",
       "    }\n",
       "\n",
       "    .dataframe tbody tr th {\n",
       "        vertical-align: top;\n",
       "    }\n",
       "\n",
       "    .dataframe thead th {\n",
       "        text-align: right;\n",
       "    }\n",
       "</style>\n",
       "<table border=\"1\" class=\"dataframe\">\n",
       "  <thead>\n",
       "    <tr style=\"text-align: right;\">\n",
       "      <th></th>\n",
       "      <th>번호</th>\n",
       "      <th>생년</th>\n",
       "      <th>이름</th>\n",
       "    </tr>\n",
       "  </thead>\n",
       "  <tbody>\n",
       "    <tr>\n",
       "      <th>0</th>\n",
       "      <td>1번</td>\n",
       "      <td>1975</td>\n",
       "      <td>홍길동</td>\n",
       "    </tr>\n",
       "    <tr>\n",
       "      <th>1</th>\n",
       "      <td>2번</td>\n",
       "      <td>1980</td>\n",
       "      <td>전우치</td>\n",
       "    </tr>\n",
       "    <tr>\n",
       "      <th>2</th>\n",
       "      <td>3번</td>\n",
       "      <td>1992</td>\n",
       "      <td>강감찬</td>\n",
       "    </tr>\n",
       "  </tbody>\n",
       "</table>\n",
       "</div>"
      ],
      "text/plain": [
       "   번호    생년   이름\n",
       "0  1번  1975  홍길동\n",
       "1  2번  1980  전우치\n",
       "2  3번  1992  강감찬"
      ]
     },
     "execution_count": 15,
     "metadata": {},
     "output_type": "execute_result"
    }
   ],
   "source": [
    "# pandas ex_7\n",
    "# 딕셔너리와 리스트를 활용하여 Data Frame 생성하기 - 컬럼 이름 순서 지정하기\n",
    "\n",
    "member3 = {'번호' : ['1번','2번','3번'],\n",
    "           '이름' : ['홍길동','전우치','강감찬'],\n",
    "           '생년' : [1975, 1980, 1992] }\n",
    "member5 = pd.DataFrame(member3, columns=['번호', '생년', '이름'])\n",
    "member5"
   ]
  },
  {
   "cell_type": "code",
   "execution_count": 17,
   "id": "1176889e",
   "metadata": {},
   "outputs": [
    {
     "data": {
      "text/html": [
       "<div>\n",
       "<style scoped>\n",
       "    .dataframe tbody tr th:only-of-type {\n",
       "        vertical-align: middle;\n",
       "    }\n",
       "\n",
       "    .dataframe tbody tr th {\n",
       "        vertical-align: top;\n",
       "    }\n",
       "\n",
       "    .dataframe thead th {\n",
       "        text-align: right;\n",
       "    }\n",
       "</style>\n",
       "<table border=\"1\" class=\"dataframe\">\n",
       "  <thead>\n",
       "    <tr style=\"text-align: right;\">\n",
       "      <th></th>\n",
       "      <th>번호</th>\n",
       "      <th>이름</th>\n",
       "      <th>생년</th>\n",
       "    </tr>\n",
       "  </thead>\n",
       "  <tbody>\n",
       "    <tr>\n",
       "      <th>0</th>\n",
       "      <td>1번</td>\n",
       "      <td>홍길동</td>\n",
       "      <td>1975</td>\n",
       "    </tr>\n",
       "    <tr>\n",
       "      <th>1</th>\n",
       "      <td>2번</td>\n",
       "      <td>전우치</td>\n",
       "      <td>1982</td>\n",
       "    </tr>\n",
       "    <tr>\n",
       "      <th>2</th>\n",
       "      <td>3번</td>\n",
       "      <td>강감찬</td>\n",
       "      <td>1980</td>\n",
       "    </tr>\n",
       "  </tbody>\n",
       "</table>\n",
       "</div>"
      ],
      "text/plain": [
       "   번호   이름    생년\n",
       "0  1번  홍길동  1975\n",
       "1  2번  전우치  1982\n",
       "2  3번  강감찬  1980"
      ]
     },
     "execution_count": 17,
     "metadata": {},
     "output_type": "execute_result"
    }
   ],
   "source": [
    "# ★매우 중요(웹 크롤러 만들 때 사용)\n",
    "# pandas ex_7_2\n",
    "no = ['1번','2번','3번']\n",
    "name = ['홍길동','전우치','강감찬']\n",
    "birth = [1975,1982,1980]\n",
    "\n",
    "member6 = pd.DataFrame()\n",
    "member6['번호'] = no\n",
    "member6['이름'] = name\n",
    "member6['생년'] = birth\n",
    "member6"
   ]
  },
  {
   "cell_type": "code",
   "execution_count": 19,
   "id": "0ea50947",
   "metadata": {},
   "outputs": [
    {
     "data": {
      "text/html": [
       "<div>\n",
       "<style scoped>\n",
       "    .dataframe tbody tr th:only-of-type {\n",
       "        vertical-align: middle;\n",
       "    }\n",
       "\n",
       "    .dataframe tbody tr th {\n",
       "        vertical-align: top;\n",
       "    }\n",
       "\n",
       "    .dataframe thead th {\n",
       "        text-align: right;\n",
       "    }\n",
       "</style>\n",
       "<table border=\"1\" class=\"dataframe\">\n",
       "  <thead>\n",
       "    <tr style=\"text-align: right;\">\n",
       "      <th></th>\n",
       "      <th>번호</th>\n",
       "      <th>이름</th>\n",
       "      <th>생년</th>\n",
       "    </tr>\n",
       "  </thead>\n",
       "  <tbody>\n",
       "    <tr>\n",
       "      <th>1</th>\n",
       "      <td>2번</td>\n",
       "      <td>전우치</td>\n",
       "      <td>1982</td>\n",
       "    </tr>\n",
       "    <tr>\n",
       "      <th>2</th>\n",
       "      <td>3번</td>\n",
       "      <td>강감찬</td>\n",
       "      <td>1980</td>\n",
       "    </tr>\n",
       "    <tr>\n",
       "      <th>0</th>\n",
       "      <td>1번</td>\n",
       "      <td>홍길동</td>\n",
       "      <td>1975</td>\n",
       "    </tr>\n",
       "  </tbody>\n",
       "</table>\n",
       "</div>"
      ],
      "text/plain": [
       "   번호   이름    생년\n",
       "1  2번  전우치  1982\n",
       "2  3번  강감찬  1980\n",
       "0  1번  홍길동  1975"
      ]
     },
     "execution_count": 19,
     "metadata": {},
     "output_type": "execute_result"
    }
   ],
   "source": [
    "member6.sort_values(['생년'], ascending=[False])\n",
    "# ascending=[True] -> 오름차순\n",
    "# ascending=[False] -> 내림차순"
   ]
  },
  {
   "cell_type": "code",
   "execution_count": 20,
   "id": "e9509a3a",
   "metadata": {},
   "outputs": [
    {
     "data": {
      "text/html": [
       "<div>\n",
       "<style scoped>\n",
       "    .dataframe tbody tr th:only-of-type {\n",
       "        vertical-align: middle;\n",
       "    }\n",
       "\n",
       "    .dataframe tbody tr th {\n",
       "        vertical-align: top;\n",
       "    }\n",
       "\n",
       "    .dataframe thead th {\n",
       "        text-align: right;\n",
       "    }\n",
       "</style>\n",
       "<table border=\"1\" class=\"dataframe\">\n",
       "  <thead>\n",
       "    <tr style=\"text-align: right;\">\n",
       "      <th></th>\n",
       "      <th>신청날짜</th>\n",
       "      <th>사업장</th>\n",
       "      <th>품목</th>\n",
       "      <th>수량</th>\n",
       "      <th>단가</th>\n",
       "      <th>금액</th>\n",
       "    </tr>\n",
       "  </thead>\n",
       "  <tbody>\n",
       "    <tr>\n",
       "      <th>0</th>\n",
       "      <td>2019-08-23</td>\n",
       "      <td>석수</td>\n",
       "      <td>ANGLE</td>\n",
       "      <td>21</td>\n",
       "      <td>32000</td>\n",
       "      <td>672000</td>\n",
       "    </tr>\n",
       "    <tr>\n",
       "      <th>1</th>\n",
       "      <td>2019-09-09</td>\n",
       "      <td>석수</td>\n",
       "      <td>백관</td>\n",
       "      <td>44</td>\n",
       "      <td>56000</td>\n",
       "      <td>2464000</td>\n",
       "    </tr>\n",
       "    <tr>\n",
       "      <th>2</th>\n",
       "      <td>2019-06-18</td>\n",
       "      <td>석수</td>\n",
       "      <td>절연판</td>\n",
       "      <td>40</td>\n",
       "      <td>45000</td>\n",
       "      <td>1800000</td>\n",
       "    </tr>\n",
       "    <tr>\n",
       "      <th>3</th>\n",
       "      <td>2019-03-13</td>\n",
       "      <td>석수</td>\n",
       "      <td>P/Z O-RING</td>\n",
       "      <td>11</td>\n",
       "      <td>38000</td>\n",
       "      <td>418000</td>\n",
       "    </tr>\n",
       "    <tr>\n",
       "      <th>4</th>\n",
       "      <td>2019-05-11</td>\n",
       "      <td>석수</td>\n",
       "      <td>알코올</td>\n",
       "      <td>38</td>\n",
       "      <td>8000</td>\n",
       "      <td>304000</td>\n",
       "    </tr>\n",
       "    <tr>\n",
       "      <th>5</th>\n",
       "      <td>2019-06-28</td>\n",
       "      <td>석수</td>\n",
       "      <td>실리콘</td>\n",
       "      <td>30</td>\n",
       "      <td>150000</td>\n",
       "      <td>4500000</td>\n",
       "    </tr>\n",
       "    <tr>\n",
       "      <th>6</th>\n",
       "      <td>2019-02-16</td>\n",
       "      <td>석수</td>\n",
       "      <td>소모품</td>\n",
       "      <td>4</td>\n",
       "      <td>2200</td>\n",
       "      <td>8800</td>\n",
       "    </tr>\n",
       "    <tr>\n",
       "      <th>7</th>\n",
       "      <td>2019-10-22</td>\n",
       "      <td>석수</td>\n",
       "      <td>MOTOR</td>\n",
       "      <td>14</td>\n",
       "      <td>30000</td>\n",
       "      <td>420000</td>\n",
       "    </tr>\n",
       "    <tr>\n",
       "      <th>8</th>\n",
       "      <td>2019-03-18</td>\n",
       "      <td>석수</td>\n",
       "      <td>PAPER BRSH</td>\n",
       "      <td>13</td>\n",
       "      <td>40000</td>\n",
       "      <td>520000</td>\n",
       "    </tr>\n",
       "    <tr>\n",
       "      <th>9</th>\n",
       "      <td>2019-07-17</td>\n",
       "      <td>석수</td>\n",
       "      <td>불화카리</td>\n",
       "      <td>23</td>\n",
       "      <td>83000</td>\n",
       "      <td>1909000</td>\n",
       "    </tr>\n",
       "    <tr>\n",
       "      <th>10</th>\n",
       "      <td>2019-07-23</td>\n",
       "      <td>석수</td>\n",
       "      <td>마크펜</td>\n",
       "      <td>33</td>\n",
       "      <td>3000</td>\n",
       "      <td>99000</td>\n",
       "    </tr>\n",
       "    <tr>\n",
       "      <th>11</th>\n",
       "      <td>2019-03-20</td>\n",
       "      <td>석수</td>\n",
       "      <td>NUT</td>\n",
       "      <td>20</td>\n",
       "      <td>15000</td>\n",
       "      <td>300000</td>\n",
       "    </tr>\n",
       "    <tr>\n",
       "      <th>12</th>\n",
       "      <td>2019-01-27</td>\n",
       "      <td>석수</td>\n",
       "      <td>윤활유</td>\n",
       "      <td>30</td>\n",
       "      <td>2000000</td>\n",
       "      <td>60000000</td>\n",
       "    </tr>\n",
       "    <tr>\n",
       "      <th>13</th>\n",
       "      <td>2019-07-11</td>\n",
       "      <td>석수</td>\n",
       "      <td>소모품</td>\n",
       "      <td>50</td>\n",
       "      <td>2200</td>\n",
       "      <td>110000</td>\n",
       "    </tr>\n",
       "    <tr>\n",
       "      <th>14</th>\n",
       "      <td>2019-05-16</td>\n",
       "      <td>석수</td>\n",
       "      <td>BITE</td>\n",
       "      <td>14</td>\n",
       "      <td>86000</td>\n",
       "      <td>1204000</td>\n",
       "    </tr>\n",
       "  </tbody>\n",
       "</table>\n",
       "</div>"
      ],
      "text/plain": [
       "         신청날짜 사업장          품목  수량       단가        금액\n",
       "0  2019-08-23  석수       ANGLE  21    32000    672000\n",
       "1  2019-09-09  석수          백관  44    56000   2464000\n",
       "2  2019-06-18  석수         절연판  40    45000   1800000\n",
       "3  2019-03-13  석수  P/Z O-RING  11    38000    418000\n",
       "4  2019-05-11  석수         알코올  38     8000    304000\n",
       "5  2019-06-28  석수         실리콘  30   150000   4500000\n",
       "6  2019-02-16  석수         소모품   4     2200      8800\n",
       "7  2019-10-22  석수       MOTOR  14    30000    420000\n",
       "8  2019-03-18  석수  PAPER BRSH  13    40000    520000\n",
       "9  2019-07-17  석수        불화카리  23    83000   1909000\n",
       "10 2019-07-23  석수         마크펜  33     3000     99000\n",
       "11 2019-03-20  석수         NUT  20    15000    300000\n",
       "12 2019-01-27  석수         윤활유  30  2000000  60000000\n",
       "13 2019-07-11  석수         소모품  50     2200    110000\n",
       "14 2019-05-16  석수        BITE  14    86000   1204000"
      ]
     },
     "execution_count": 20,
     "metadata": {},
     "output_type": "execute_result"
    }
   ],
   "source": [
    "import pandas as pd\n",
    "\n",
    "data1 = pd.read_excel('c:\\\\py_temp2\\\\부품구입대장2.xls')\n",
    "data1"
   ]
  },
  {
   "cell_type": "code",
   "execution_count": 21,
   "id": "b71966c1",
   "metadata": {},
   "outputs": [
    {
     "data": {
      "text/html": [
       "<div>\n",
       "<style scoped>\n",
       "    .dataframe tbody tr th:only-of-type {\n",
       "        vertical-align: middle;\n",
       "    }\n",
       "\n",
       "    .dataframe tbody tr th {\n",
       "        vertical-align: top;\n",
       "    }\n",
       "\n",
       "    .dataframe thead th {\n",
       "        text-align: right;\n",
       "    }\n",
       "</style>\n",
       "<table border=\"1\" class=\"dataframe\">\n",
       "  <thead>\n",
       "    <tr style=\"text-align: right;\">\n",
       "      <th></th>\n",
       "      <th>이름</th>\n",
       "      <th>요일</th>\n",
       "      <th>실적</th>\n",
       "    </tr>\n",
       "  </thead>\n",
       "  <tbody>\n",
       "    <tr>\n",
       "      <th>0</th>\n",
       "      <td>이름</td>\n",
       "      <td>요일</td>\n",
       "      <td>실적</td>\n",
       "    </tr>\n",
       "    <tr>\n",
       "      <th>1</th>\n",
       "      <td>홍길동</td>\n",
       "      <td>월요일</td>\n",
       "      <td>100</td>\n",
       "    </tr>\n",
       "    <tr>\n",
       "      <th>2</th>\n",
       "      <td>홍길동</td>\n",
       "      <td>화요일</td>\n",
       "      <td>70</td>\n",
       "    </tr>\n",
       "    <tr>\n",
       "      <th>3</th>\n",
       "      <td>홍길동</td>\n",
       "      <td>수요일</td>\n",
       "      <td>80</td>\n",
       "    </tr>\n",
       "    <tr>\n",
       "      <th>4</th>\n",
       "      <td>홍길동</td>\n",
       "      <td>목요일</td>\n",
       "      <td>85</td>\n",
       "    </tr>\n",
       "    <tr>\n",
       "      <th>5</th>\n",
       "      <td>홍길동</td>\n",
       "      <td>금요일</td>\n",
       "      <td>65</td>\n",
       "    </tr>\n",
       "    <tr>\n",
       "      <th>6</th>\n",
       "      <td>홍길동</td>\n",
       "      <td>토요일</td>\n",
       "      <td>95</td>\n",
       "    </tr>\n",
       "    <tr>\n",
       "      <th>7</th>\n",
       "      <td>홍길동</td>\n",
       "      <td>일요일</td>\n",
       "      <td>120</td>\n",
       "    </tr>\n",
       "  </tbody>\n",
       "</table>\n",
       "</div>"
      ],
      "text/plain": [
       "    이름   요일   실적\n",
       "0   이름   요일   실적\n",
       "1  홍길동  월요일  100\n",
       "2  홍길동  화요일   70\n",
       "3  홍길동  수요일   80\n",
       "4  홍길동  목요일   85\n",
       "5  홍길동  금요일   65\n",
       "6  홍길동  토요일   95\n",
       "7  홍길동  일요일  120"
      ]
     },
     "execution_count": 21,
     "metadata": {},
     "output_type": "execute_result"
    }
   ],
   "source": [
    "# csv 파일 불러오기 - 인코딩 지정하기\n",
    "import pandas as pd\n",
    "\n",
    "data1 = pd.read_csv('c:\\\\py_temp2\\\\사원별판매현황_홍길동.csv',\n",
    "                   names = ['이름','요일','실적'], encoding='cp949')\n",
    "data1"
   ]
  },
  {
   "cell_type": "code",
   "execution_count": 22,
   "id": "739f5796",
   "metadata": {},
   "outputs": [
    {
     "data": {
      "text/html": [
       "<div>\n",
       "<style scoped>\n",
       "    .dataframe tbody tr th:only-of-type {\n",
       "        vertical-align: middle;\n",
       "    }\n",
       "\n",
       "    .dataframe tbody tr th {\n",
       "        vertical-align: top;\n",
       "    }\n",
       "\n",
       "    .dataframe thead th {\n",
       "        text-align: right;\n",
       "    }\n",
       "</style>\n",
       "<table border=\"1\" class=\"dataframe\">\n",
       "  <thead>\n",
       "    <tr style=\"text-align: right;\">\n",
       "      <th></th>\n",
       "      <th>번호</th>\n",
       "      <th>생년</th>\n",
       "      <th>이름</th>\n",
       "    </tr>\n",
       "  </thead>\n",
       "  <tbody>\n",
       "    <tr>\n",
       "      <th>0</th>\n",
       "      <td>1번</td>\n",
       "      <td>1975</td>\n",
       "      <td>홍길동</td>\n",
       "    </tr>\n",
       "    <tr>\n",
       "      <th>1</th>\n",
       "      <td>2번</td>\n",
       "      <td>1980</td>\n",
       "      <td>전우치</td>\n",
       "    </tr>\n",
       "    <tr>\n",
       "      <th>2</th>\n",
       "      <td>3번</td>\n",
       "      <td>1992</td>\n",
       "      <td>강감찬</td>\n",
       "    </tr>\n",
       "  </tbody>\n",
       "</table>\n",
       "</div>"
      ],
      "text/plain": [
       "   번호    생년   이름\n",
       "0  1번  1975  홍길동\n",
       "1  2번  1980  전우치\n",
       "2  3번  1992  강감찬"
      ]
     },
     "execution_count": 22,
     "metadata": {},
     "output_type": "execute_result"
    }
   ],
   "source": [
    "# data frame 에서 원하는 데이터 조회하기\n",
    "member5"
   ]
  },
  {
   "cell_type": "code",
   "execution_count": 23,
   "id": "37a1b21e",
   "metadata": {},
   "outputs": [
    {
     "data": {
      "text/plain": [
       "0    1975\n",
       "1    1980\n",
       "2    1992\n",
       "Name: 생년, dtype: int64"
      ]
     },
     "execution_count": 23,
     "metadata": {},
     "output_type": "execute_result"
    }
   ],
   "source": [
    "member5['생년'] # 2개 이상의 컬럼일 경우 member5[ ['이름','생년'] ]"
   ]
  },
  {
   "cell_type": "code",
   "execution_count": 24,
   "id": "e9991f23",
   "metadata": {},
   "outputs": [
    {
     "data": {
      "text/plain": [
       "번호      1번\n",
       "생년    1975\n",
       "이름     홍길동\n",
       "Name: 0, dtype: object"
      ]
     },
     "execution_count": 24,
     "metadata": {},
     "output_type": "execute_result"
    }
   ],
   "source": [
    "member5.loc[0]"
   ]
  },
  {
   "cell_type": "code",
   "execution_count": 25,
   "id": "d9f05496",
   "metadata": {},
   "outputs": [
    {
     "data": {
      "text/html": [
       "<div>\n",
       "<style scoped>\n",
       "    .dataframe tbody tr th:only-of-type {\n",
       "        vertical-align: middle;\n",
       "    }\n",
       "\n",
       "    .dataframe tbody tr th {\n",
       "        vertical-align: top;\n",
       "    }\n",
       "\n",
       "    .dataframe thead th {\n",
       "        text-align: right;\n",
       "    }\n",
       "</style>\n",
       "<table border=\"1\" class=\"dataframe\">\n",
       "  <thead>\n",
       "    <tr style=\"text-align: right;\">\n",
       "      <th></th>\n",
       "      <th>번호</th>\n",
       "      <th>생년</th>\n",
       "      <th>이름</th>\n",
       "    </tr>\n",
       "  </thead>\n",
       "  <tbody>\n",
       "    <tr>\n",
       "      <th>1</th>\n",
       "      <td>2번</td>\n",
       "      <td>1980</td>\n",
       "      <td>전우치</td>\n",
       "    </tr>\n",
       "    <tr>\n",
       "      <th>2</th>\n",
       "      <td>3번</td>\n",
       "      <td>1992</td>\n",
       "      <td>강감찬</td>\n",
       "    </tr>\n",
       "  </tbody>\n",
       "</table>\n",
       "</div>"
      ],
      "text/plain": [
       "   번호    생년   이름\n",
       "1  2번  1980  전우치\n",
       "2  3번  1992  강감찬"
      ]
     },
     "execution_count": 25,
     "metadata": {},
     "output_type": "execute_result"
    }
   ],
   "source": [
    "member5.loc[ member5['번호'] >= '2']"
   ]
  },
  {
   "cell_type": "code",
   "execution_count": 26,
   "id": "b02f0481",
   "metadata": {},
   "outputs": [
    {
     "data": {
      "text/html": [
       "<div>\n",
       "<style scoped>\n",
       "    .dataframe tbody tr th:only-of-type {\n",
       "        vertical-align: middle;\n",
       "    }\n",
       "\n",
       "    .dataframe tbody tr th {\n",
       "        vertical-align: top;\n",
       "    }\n",
       "\n",
       "    .dataframe thead th {\n",
       "        text-align: right;\n",
       "    }\n",
       "</style>\n",
       "<table border=\"1\" class=\"dataframe\">\n",
       "  <thead>\n",
       "    <tr style=\"text-align: right;\">\n",
       "      <th></th>\n",
       "      <th>번호</th>\n",
       "      <th>이름</th>\n",
       "      <th>매출</th>\n",
       "    </tr>\n",
       "  </thead>\n",
       "  <tbody>\n",
       "    <tr>\n",
       "      <th>0</th>\n",
       "      <td>1</td>\n",
       "      <td>홍길동</td>\n",
       "      <td>100</td>\n",
       "    </tr>\n",
       "    <tr>\n",
       "      <th>1</th>\n",
       "      <td>2</td>\n",
       "      <td>전우치</td>\n",
       "      <td>200</td>\n",
       "    </tr>\n",
       "    <tr>\n",
       "      <th>2</th>\n",
       "      <td>3</td>\n",
       "      <td>강감찬</td>\n",
       "      <td>300</td>\n",
       "    </tr>\n",
       "    <tr>\n",
       "      <th>3</th>\n",
       "      <td>4</td>\n",
       "      <td>일지매</td>\n",
       "      <td>250</td>\n",
       "    </tr>\n",
       "    <tr>\n",
       "      <th>4</th>\n",
       "      <td>5</td>\n",
       "      <td>을지문덕</td>\n",
       "      <td>150</td>\n",
       "    </tr>\n",
       "  </tbody>\n",
       "</table>\n",
       "</div>"
      ],
      "text/plain": [
       "   번호    이름   매출\n",
       "0   1   홍길동  100\n",
       "1   2   전우치  200\n",
       "2   3   강감찬  300\n",
       "3   4   일지매  250\n",
       "4   5  을지문덕  150"
      ]
     },
     "execution_count": 26,
     "metadata": {},
     "output_type": "execute_result"
    }
   ],
   "source": [
    "member6 = {'번호' : [1,2,3,4,5] ,\n",
    "           '이름' : ['홍길동', '전우치', '강감찬', '일지매', '을지문덕'],\n",
    "           '매출' : [100,200,300,250,150]}\n",
    "member7 = pd.DataFrame(member6 , columns=['번호','이름','매출'])\n",
    "member7"
   ]
  },
  {
   "cell_type": "code",
   "execution_count": 27,
   "id": "d7a95c7b",
   "metadata": {},
   "outputs": [
    {
     "data": {
      "text/html": [
       "<div>\n",
       "<style scoped>\n",
       "    .dataframe tbody tr th:only-of-type {\n",
       "        vertical-align: middle;\n",
       "    }\n",
       "\n",
       "    .dataframe tbody tr th {\n",
       "        vertical-align: top;\n",
       "    }\n",
       "\n",
       "    .dataframe thead th {\n",
       "        text-align: right;\n",
       "    }\n",
       "</style>\n",
       "<table border=\"1\" class=\"dataframe\">\n",
       "  <thead>\n",
       "    <tr style=\"text-align: right;\">\n",
       "      <th></th>\n",
       "      <th>번호</th>\n",
       "      <th>이름</th>\n",
       "      <th>매출</th>\n",
       "    </tr>\n",
       "  </thead>\n",
       "  <tbody>\n",
       "    <tr>\n",
       "      <th>0</th>\n",
       "      <td>1</td>\n",
       "      <td>홍길동</td>\n",
       "      <td>100</td>\n",
       "    </tr>\n",
       "    <tr>\n",
       "      <th>1</th>\n",
       "      <td>2</td>\n",
       "      <td>전우치</td>\n",
       "      <td>200</td>\n",
       "    </tr>\n",
       "    <tr>\n",
       "      <th>4</th>\n",
       "      <td>5</td>\n",
       "      <td>을지문덕</td>\n",
       "      <td>150</td>\n",
       "    </tr>\n",
       "  </tbody>\n",
       "</table>\n",
       "</div>"
      ],
      "text/plain": [
       "   번호    이름   매출\n",
       "0   1   홍길동  100\n",
       "1   2   전우치  200\n",
       "4   5  을지문덕  150"
      ]
     },
     "execution_count": 27,
     "metadata": {},
     "output_type": "execute_result"
    }
   ],
   "source": [
    "# 매출이 100 이상 ~ 200 이하인 행만 출력하기\n",
    "member7.loc[ (member7['매출'] >= 100) & (member7['매출'] <= 200)]"
   ]
  },
  {
   "cell_type": "code",
   "execution_count": 28,
   "id": "659853ec",
   "metadata": {},
   "outputs": [
    {
     "data": {
      "text/html": [
       "<div>\n",
       "<style scoped>\n",
       "    .dataframe tbody tr th:only-of-type {\n",
       "        vertical-align: middle;\n",
       "    }\n",
       "\n",
       "    .dataframe tbody tr th {\n",
       "        vertical-align: top;\n",
       "    }\n",
       "\n",
       "    .dataframe thead th {\n",
       "        text-align: right;\n",
       "    }\n",
       "</style>\n",
       "<table border=\"1\" class=\"dataframe\">\n",
       "  <thead>\n",
       "    <tr style=\"text-align: right;\">\n",
       "      <th></th>\n",
       "      <th>이름</th>\n",
       "      <th>매출</th>\n",
       "    </tr>\n",
       "  </thead>\n",
       "  <tbody>\n",
       "    <tr>\n",
       "      <th>0</th>\n",
       "      <td>홍길동</td>\n",
       "      <td>100</td>\n",
       "    </tr>\n",
       "    <tr>\n",
       "      <th>1</th>\n",
       "      <td>전우치</td>\n",
       "      <td>200</td>\n",
       "    </tr>\n",
       "    <tr>\n",
       "      <th>4</th>\n",
       "      <td>을지문덕</td>\n",
       "      <td>150</td>\n",
       "    </tr>\n",
       "  </tbody>\n",
       "</table>\n",
       "</div>"
      ],
      "text/plain": [
       "     이름   매출\n",
       "0   홍길동  100\n",
       "1   전우치  200\n",
       "4  을지문덕  150"
      ]
     },
     "execution_count": 28,
     "metadata": {},
     "output_type": "execute_result"
    }
   ],
   "source": [
    "# 매출이 100 이상 ~ 200 이하인 행의 이름 컬럼과 매출 컬럼만 출력하기\n",
    "member7.loc[ (member7['매출'] >= 100) & (member7['매출'] <= 200),['이름','매출']]"
   ]
  },
  {
   "cell_type": "code",
   "execution_count": 29,
   "id": "9eceee07",
   "metadata": {},
   "outputs": [
    {
     "data": {
      "text/html": [
       "<div>\n",
       "<style scoped>\n",
       "    .dataframe tbody tr th:only-of-type {\n",
       "        vertical-align: middle;\n",
       "    }\n",
       "\n",
       "    .dataframe tbody tr th {\n",
       "        vertical-align: top;\n",
       "    }\n",
       "\n",
       "    .dataframe thead th {\n",
       "        text-align: right;\n",
       "    }\n",
       "</style>\n",
       "<table border=\"1\" class=\"dataframe\">\n",
       "  <thead>\n",
       "    <tr style=\"text-align: right;\">\n",
       "      <th></th>\n",
       "      <th>이름</th>\n",
       "      <th>매출</th>\n",
       "    </tr>\n",
       "  </thead>\n",
       "  <tbody>\n",
       "    <tr>\n",
       "      <th>0</th>\n",
       "      <td>홍길동</td>\n",
       "      <td>100</td>\n",
       "    </tr>\n",
       "    <tr>\n",
       "      <th>2</th>\n",
       "      <td>강감찬</td>\n",
       "      <td>300</td>\n",
       "    </tr>\n",
       "    <tr>\n",
       "      <th>4</th>\n",
       "      <td>을지문덕</td>\n",
       "      <td>150</td>\n",
       "    </tr>\n",
       "  </tbody>\n",
       "</table>\n",
       "</div>"
      ],
      "text/plain": [
       "     이름   매출\n",
       "0   홍길동  100\n",
       "2   강감찬  300\n",
       "4  을지문덕  150"
      ]
     },
     "execution_count": 29,
     "metadata": {},
     "output_type": "execute_result"
    }
   ],
   "source": [
    "# 매출이 150 이하 이거나 또는 300 이상인 행의 이름 컬럼과 매출 컬럼만 출력하기\n",
    "member7.loc[ (member7['매출'] <= 150) | (member7['매출'] >= 300),['이름','매출'] ]"
   ]
  },
  {
   "cell_type": "code",
   "execution_count": 31,
   "id": "3d31fd96",
   "metadata": {},
   "outputs": [
    {
     "data": {
      "text/html": [
       "<div>\n",
       "<style scoped>\n",
       "    .dataframe tbody tr th:only-of-type {\n",
       "        vertical-align: middle;\n",
       "    }\n",
       "\n",
       "    .dataframe tbody tr th {\n",
       "        vertical-align: top;\n",
       "    }\n",
       "\n",
       "    .dataframe thead th {\n",
       "        text-align: right;\n",
       "    }\n",
       "</style>\n",
       "<table border=\"1\" class=\"dataframe\">\n",
       "  <thead>\n",
       "    <tr style=\"text-align: right;\">\n",
       "      <th></th>\n",
       "      <th>번호</th>\n",
       "      <th>이름</th>\n",
       "      <th>생년</th>\n",
       "      <th>지역</th>\n",
       "    </tr>\n",
       "  </thead>\n",
       "  <tbody>\n",
       "    <tr>\n",
       "      <th>0</th>\n",
       "      <td>1번</td>\n",
       "      <td>홍길동</td>\n",
       "      <td>1975</td>\n",
       "      <td>NaN</td>\n",
       "    </tr>\n",
       "    <tr>\n",
       "      <th>1</th>\n",
       "      <td>2번</td>\n",
       "      <td>전우치</td>\n",
       "      <td>1980</td>\n",
       "      <td>NaN</td>\n",
       "    </tr>\n",
       "    <tr>\n",
       "      <th>2</th>\n",
       "      <td>3번</td>\n",
       "      <td>강감찬</td>\n",
       "      <td>1992</td>\n",
       "      <td>NaN</td>\n",
       "    </tr>\n",
       "  </tbody>\n",
       "</table>\n",
       "</div>"
      ],
      "text/plain": [
       "   번호   이름    생년  지역\n",
       "0  1번  홍길동  1975 NaN\n",
       "1  2번  전우치  1980 NaN\n",
       "2  3번  강감찬  1992 NaN"
      ]
     },
     "execution_count": 31,
     "metadata": {},
     "output_type": "execute_result"
    }
   ],
   "source": [
    "# 새로운 열 추가하기\n",
    "member8 = pd.DataFrame( member5 ,columns=['번호','이름','생년','지역'])\n",
    "member8"
   ]
  },
  {
   "cell_type": "code",
   "execution_count": 32,
   "id": "57d5b5ed",
   "metadata": {},
   "outputs": [
    {
     "data": {
      "text/html": [
       "<div>\n",
       "<style scoped>\n",
       "    .dataframe tbody tr th:only-of-type {\n",
       "        vertical-align: middle;\n",
       "    }\n",
       "\n",
       "    .dataframe tbody tr th {\n",
       "        vertical-align: top;\n",
       "    }\n",
       "\n",
       "    .dataframe thead th {\n",
       "        text-align: right;\n",
       "    }\n",
       "</style>\n",
       "<table border=\"1\" class=\"dataframe\">\n",
       "  <thead>\n",
       "    <tr style=\"text-align: right;\">\n",
       "      <th></th>\n",
       "      <th>번호</th>\n",
       "      <th>이름</th>\n",
       "      <th>생년</th>\n",
       "      <th>지역</th>\n",
       "    </tr>\n",
       "  </thead>\n",
       "  <tbody>\n",
       "    <tr>\n",
       "      <th>0</th>\n",
       "      <td>1번</td>\n",
       "      <td>홍길동</td>\n",
       "      <td>1975</td>\n",
       "      <td>서울</td>\n",
       "    </tr>\n",
       "    <tr>\n",
       "      <th>1</th>\n",
       "      <td>2번</td>\n",
       "      <td>전우치</td>\n",
       "      <td>1980</td>\n",
       "      <td>대전</td>\n",
       "    </tr>\n",
       "    <tr>\n",
       "      <th>2</th>\n",
       "      <td>3번</td>\n",
       "      <td>강감찬</td>\n",
       "      <td>1992</td>\n",
       "      <td>강원</td>\n",
       "    </tr>\n",
       "  </tbody>\n",
       "</table>\n",
       "</div>"
      ],
      "text/plain": [
       "   번호   이름    생년  지역\n",
       "0  1번  홍길동  1975  서울\n",
       "1  2번  전우치  1980  대전\n",
       "2  3번  강감찬  1992  강원"
      ]
     },
     "execution_count": 32,
     "metadata": {},
     "output_type": "execute_result"
    }
   ],
   "source": [
    "member8['지역'] = ['서울','대전','강원']\n",
    "member8"
   ]
  },
  {
   "cell_type": "code",
   "execution_count": 33,
   "id": "376292bc",
   "metadata": {},
   "outputs": [
    {
     "data": {
      "text/html": [
       "<div>\n",
       "<style scoped>\n",
       "    .dataframe tbody tr th:only-of-type {\n",
       "        vertical-align: middle;\n",
       "    }\n",
       "\n",
       "    .dataframe tbody tr th {\n",
       "        vertical-align: top;\n",
       "    }\n",
       "\n",
       "    .dataframe thead th {\n",
       "        text-align: right;\n",
       "    }\n",
       "</style>\n",
       "<table border=\"1\" class=\"dataframe\">\n",
       "  <thead>\n",
       "    <tr style=\"text-align: right;\">\n",
       "      <th></th>\n",
       "      <th>번호</th>\n",
       "      <th>이름</th>\n",
       "      <th>생년</th>\n",
       "      <th>지역</th>\n",
       "    </tr>\n",
       "  </thead>\n",
       "  <tbody>\n",
       "    <tr>\n",
       "      <th>0</th>\n",
       "      <td>1번</td>\n",
       "      <td>홍길동</td>\n",
       "      <td>1975</td>\n",
       "      <td>서울</td>\n",
       "    </tr>\n",
       "    <tr>\n",
       "      <th>1</th>\n",
       "      <td>2번</td>\n",
       "      <td>전우치</td>\n",
       "      <td>1980</td>\n",
       "      <td>대전</td>\n",
       "    </tr>\n",
       "    <tr>\n",
       "      <th>2</th>\n",
       "      <td>3번</td>\n",
       "      <td>강감찬</td>\n",
       "      <td>1992</td>\n",
       "      <td>강원</td>\n",
       "    </tr>\n",
       "    <tr>\n",
       "      <th>3</th>\n",
       "      <td>4번</td>\n",
       "      <td>서진수</td>\n",
       "      <td>1975</td>\n",
       "      <td>경기</td>\n",
       "    </tr>\n",
       "  </tbody>\n",
       "</table>\n",
       "</div>"
      ],
      "text/plain": [
       "   번호   이름    생년  지역\n",
       "0  1번  홍길동  1975  서울\n",
       "1  2번  전우치  1980  대전\n",
       "2  3번  강감찬  1992  강원\n",
       "3  4번  서진수  1975  경기"
      ]
     },
     "execution_count": 33,
     "metadata": {},
     "output_type": "execute_result"
    }
   ],
   "source": [
    "# 새로운 행 추가하기\n",
    "member8.loc[3] = ['4번','서진수',1975,'경기']\n",
    "member8"
   ]
  },
  {
   "cell_type": "code",
   "execution_count": 34,
   "id": "0170ad35",
   "metadata": {},
   "outputs": [
    {
     "data": {
      "text/html": [
       "<div>\n",
       "<style scoped>\n",
       "    .dataframe tbody tr th:only-of-type {\n",
       "        vertical-align: middle;\n",
       "    }\n",
       "\n",
       "    .dataframe tbody tr th {\n",
       "        vertical-align: top;\n",
       "    }\n",
       "\n",
       "    .dataframe thead th {\n",
       "        text-align: right;\n",
       "    }\n",
       "</style>\n",
       "<table border=\"1\" class=\"dataframe\">\n",
       "  <thead>\n",
       "    <tr style=\"text-align: right;\">\n",
       "      <th></th>\n",
       "      <th>번호</th>\n",
       "      <th>이름</th>\n",
       "      <th>생년</th>\n",
       "      <th>지역</th>\n",
       "    </tr>\n",
       "  </thead>\n",
       "  <tbody>\n",
       "    <tr>\n",
       "      <th>1</th>\n",
       "      <td>2번</td>\n",
       "      <td>전우치</td>\n",
       "      <td>1980</td>\n",
       "      <td>대전</td>\n",
       "    </tr>\n",
       "    <tr>\n",
       "      <th>2</th>\n",
       "      <td>3번</td>\n",
       "      <td>강감찬</td>\n",
       "      <td>1992</td>\n",
       "      <td>강원</td>\n",
       "    </tr>\n",
       "    <tr>\n",
       "      <th>3</th>\n",
       "      <td>4번</td>\n",
       "      <td>서진수</td>\n",
       "      <td>1975</td>\n",
       "      <td>경기</td>\n",
       "    </tr>\n",
       "  </tbody>\n",
       "</table>\n",
       "</div>"
      ],
      "text/plain": [
       "   번호   이름    생년  지역\n",
       "1  2번  전우치  1980  대전\n",
       "2  3번  강감찬  1992  강원\n",
       "3  4번  서진수  1975  경기"
      ]
     },
     "execution_count": 34,
     "metadata": {},
     "output_type": "execute_result"
    }
   ],
   "source": [
    "# 행과 열 삭제하기\n",
    "member8.drop([0])"
   ]
  },
  {
   "cell_type": "code",
   "execution_count": 35,
   "id": "9bfef241",
   "metadata": {},
   "outputs": [
    {
     "data": {
      "text/html": [
       "<div>\n",
       "<style scoped>\n",
       "    .dataframe tbody tr th:only-of-type {\n",
       "        vertical-align: middle;\n",
       "    }\n",
       "\n",
       "    .dataframe tbody tr th {\n",
       "        vertical-align: top;\n",
       "    }\n",
       "\n",
       "    .dataframe thead th {\n",
       "        text-align: right;\n",
       "    }\n",
       "</style>\n",
       "<table border=\"1\" class=\"dataframe\">\n",
       "  <thead>\n",
       "    <tr style=\"text-align: right;\">\n",
       "      <th></th>\n",
       "      <th>번호</th>\n",
       "      <th>이름</th>\n",
       "      <th>생년</th>\n",
       "      <th>지역</th>\n",
       "    </tr>\n",
       "  </thead>\n",
       "  <tbody>\n",
       "    <tr>\n",
       "      <th>0</th>\n",
       "      <td>1번</td>\n",
       "      <td>홍길동</td>\n",
       "      <td>1975</td>\n",
       "      <td>서울</td>\n",
       "    </tr>\n",
       "    <tr>\n",
       "      <th>3</th>\n",
       "      <td>4번</td>\n",
       "      <td>서진수</td>\n",
       "      <td>1975</td>\n",
       "      <td>경기</td>\n",
       "    </tr>\n",
       "  </tbody>\n",
       "</table>\n",
       "</div>"
      ],
      "text/plain": [
       "   번호   이름    생년  지역\n",
       "0  1번  홍길동  1975  서울\n",
       "3  4번  서진수  1975  경기"
      ]
     },
     "execution_count": 35,
     "metadata": {},
     "output_type": "execute_result"
    }
   ],
   "source": [
    "# 특정 조건의 행 삭제하기\n",
    "member8.drop( member8[ member8.생년 >= 1980].index)"
   ]
  },
  {
   "cell_type": "code",
   "execution_count": 36,
   "id": "e9ffe6cc",
   "metadata": {},
   "outputs": [
    {
     "data": {
      "text/html": [
       "<div>\n",
       "<style scoped>\n",
       "    .dataframe tbody tr th:only-of-type {\n",
       "        vertical-align: middle;\n",
       "    }\n",
       "\n",
       "    .dataframe tbody tr th {\n",
       "        vertical-align: top;\n",
       "    }\n",
       "\n",
       "    .dataframe thead th {\n",
       "        text-align: right;\n",
       "    }\n",
       "</style>\n",
       "<table border=\"1\" class=\"dataframe\">\n",
       "  <thead>\n",
       "    <tr style=\"text-align: right;\">\n",
       "      <th></th>\n",
       "      <th>번호</th>\n",
       "      <th>이름</th>\n",
       "      <th>생년</th>\n",
       "      <th>지역</th>\n",
       "    </tr>\n",
       "  </thead>\n",
       "  <tbody>\n",
       "    <tr>\n",
       "      <th>3</th>\n",
       "      <td>4번</td>\n",
       "      <td>서진수</td>\n",
       "      <td>1975</td>\n",
       "      <td>경기</td>\n",
       "    </tr>\n",
       "  </tbody>\n",
       "</table>\n",
       "</div>"
      ],
      "text/plain": [
       "   번호   이름    생년  지역\n",
       "3  4번  서진수  1975  경기"
      ]
     },
     "execution_count": 36,
     "metadata": {},
     "output_type": "execute_result"
    }
   ],
   "source": [
    "# 2개 이상의 특정 조건을 지정하여 특정 행 삭제하기\n",
    "member8.drop( member8[ (member8.생년 >= 1980) | (member8.지역=='서울')].index)"
   ]
  },
  {
   "cell_type": "code",
   "execution_count": 38,
   "id": "451adc6d",
   "metadata": {},
   "outputs": [
    {
     "data": {
      "text/html": [
       "<div>\n",
       "<style scoped>\n",
       "    .dataframe tbody tr th:only-of-type {\n",
       "        vertical-align: middle;\n",
       "    }\n",
       "\n",
       "    .dataframe tbody tr th {\n",
       "        vertical-align: top;\n",
       "    }\n",
       "\n",
       "    .dataframe thead th {\n",
       "        text-align: right;\n",
       "    }\n",
       "</style>\n",
       "<table border=\"1\" class=\"dataframe\">\n",
       "  <thead>\n",
       "    <tr style=\"text-align: right;\">\n",
       "      <th></th>\n",
       "      <th>학번</th>\n",
       "      <th>이름</th>\n",
       "      <th>키</th>\n",
       "    </tr>\n",
       "  </thead>\n",
       "  <tbody>\n",
       "    <tr>\n",
       "      <th>0</th>\n",
       "      <td>1001</td>\n",
       "      <td>홍길동</td>\n",
       "      <td>180</td>\n",
       "    </tr>\n",
       "    <tr>\n",
       "      <th>1</th>\n",
       "      <td>1002</td>\n",
       "      <td>일지매</td>\n",
       "      <td>175</td>\n",
       "    </tr>\n",
       "    <tr>\n",
       "      <th>2</th>\n",
       "      <td>1003</td>\n",
       "      <td>전우치</td>\n",
       "      <td>168</td>\n",
       "    </tr>\n",
       "  </tbody>\n",
       "</table>\n",
       "</div>"
      ],
      "text/plain": [
       "     학번   이름    키\n",
       "0  1001  홍길동  180\n",
       "1  1002  일지매  175\n",
       "2  1003  전우치  168"
      ]
     },
     "execution_count": 38,
     "metadata": {},
     "output_type": "execute_result"
    }
   ],
   "source": [
    "# merge 실습용 데이터 생성 1\n",
    "df_1 = {'학번' : ['1001','1002','1003'] ,\n",
    "        '이름' : ['홍길동','일지매','전우치'] ,\n",
    "        '키' : [180, 175, 168] }\n",
    "stu_1 = pd.DataFrame(df_1)\n",
    "stu_1"
   ]
  },
  {
   "cell_type": "code",
   "execution_count": 37,
   "id": "4c3e2524",
   "metadata": {},
   "outputs": [
    {
     "data": {
      "text/html": [
       "<div>\n",
       "<style scoped>\n",
       "    .dataframe tbody tr th:only-of-type {\n",
       "        vertical-align: middle;\n",
       "    }\n",
       "\n",
       "    .dataframe tbody tr th {\n",
       "        vertical-align: top;\n",
       "    }\n",
       "\n",
       "    .dataframe thead th {\n",
       "        text-align: right;\n",
       "    }\n",
       "</style>\n",
       "<table border=\"1\" class=\"dataframe\">\n",
       "  <thead>\n",
       "    <tr style=\"text-align: right;\">\n",
       "      <th></th>\n",
       "      <th>학번</th>\n",
       "      <th>이름</th>\n",
       "      <th>몸무게</th>\n",
       "    </tr>\n",
       "  </thead>\n",
       "  <tbody>\n",
       "    <tr>\n",
       "      <th>0</th>\n",
       "      <td>1001</td>\n",
       "      <td>홍길동</td>\n",
       "      <td>80</td>\n",
       "    </tr>\n",
       "    <tr>\n",
       "      <th>1</th>\n",
       "      <td>1002</td>\n",
       "      <td>일지매</td>\n",
       "      <td>75</td>\n",
       "    </tr>\n",
       "    <tr>\n",
       "      <th>2</th>\n",
       "      <td>1004</td>\n",
       "      <td>강감찬</td>\n",
       "      <td>68</td>\n",
       "    </tr>\n",
       "  </tbody>\n",
       "</table>\n",
       "</div>"
      ],
      "text/plain": [
       "     학번   이름  몸무게\n",
       "0  1001  홍길동   80\n",
       "1  1002  일지매   75\n",
       "2  1004  강감찬   68"
      ]
     },
     "execution_count": 37,
     "metadata": {},
     "output_type": "execute_result"
    }
   ],
   "source": [
    "# merge 실습용 데이터 생성 2\n",
    "df_2 = {'학번' : ['1001','1002','1004'] ,\n",
    "        '이름' : ['홍길동','일지매','강감찬'] ,\n",
    "        '몸무게' : [80, 75, 68] }\n",
    "stu_2 = pd.DataFrame(df_2)\n",
    "stu_2"
   ]
  },
  {
   "cell_type": "markdown",
   "id": "0a858a4e",
   "metadata": {},
   "source": [
    "- left_on='이름', right_on='이름' 은 merge 하는 기준이다.\n",
    "- 이름이 똑같은 것끼리 merge 하도록 한다."
   ]
  },
  {
   "cell_type": "code",
   "execution_count": 39,
   "id": "2362512a",
   "metadata": {},
   "outputs": [
    {
     "data": {
      "text/html": [
       "<div>\n",
       "<style scoped>\n",
       "    .dataframe tbody tr th:only-of-type {\n",
       "        vertical-align: middle;\n",
       "    }\n",
       "\n",
       "    .dataframe tbody tr th {\n",
       "        vertical-align: top;\n",
       "    }\n",
       "\n",
       "    .dataframe thead th {\n",
       "        text-align: right;\n",
       "    }\n",
       "</style>\n",
       "<table border=\"1\" class=\"dataframe\">\n",
       "  <thead>\n",
       "    <tr style=\"text-align: right;\">\n",
       "      <th></th>\n",
       "      <th>학번_x</th>\n",
       "      <th>이름</th>\n",
       "      <th>키</th>\n",
       "      <th>학번_y</th>\n",
       "      <th>몸무게</th>\n",
       "    </tr>\n",
       "  </thead>\n",
       "  <tbody>\n",
       "    <tr>\n",
       "      <th>0</th>\n",
       "      <td>1001</td>\n",
       "      <td>홍길동</td>\n",
       "      <td>180</td>\n",
       "      <td>1001</td>\n",
       "      <td>80</td>\n",
       "    </tr>\n",
       "    <tr>\n",
       "      <th>1</th>\n",
       "      <td>1002</td>\n",
       "      <td>일지매</td>\n",
       "      <td>175</td>\n",
       "      <td>1002</td>\n",
       "      <td>75</td>\n",
       "    </tr>\n",
       "  </tbody>\n",
       "</table>\n",
       "</div>"
      ],
      "text/plain": [
       "   학번_x   이름    키  학번_y  몸무게\n",
       "0  1001  홍길동  180  1001   80\n",
       "1  1002  일지매  175  1002   75"
      ]
     },
     "execution_count": 39,
     "metadata": {},
     "output_type": "execute_result"
    }
   ],
   "source": [
    "# 기본값으로 merge - inner join 방식\n",
    "pd.merge(stu_1, stu_2, left_on='이름', right_on='이름')"
   ]
  },
  {
   "cell_type": "markdown",
   "id": "1b4fc097",
   "metadata": {},
   "source": [
    "- how='left' 왼쪽 테이블을 기준으로 왼쪽에 있는 데이터는 다 뽑아!\n",
    "- how='right' 오른쪽 테이블을 기준으로 오른쪽에 있는 데이터는 다 뽑아!\n",
    "- how='outer' 오른쪽에 있고 왼쪽에 없는 것과 왼쪽에 있고 오른쪽에 없는 것을 모두 뽑아!"
   ]
  },
  {
   "cell_type": "code",
   "execution_count": 40,
   "id": "43a24080",
   "metadata": {},
   "outputs": [
    {
     "data": {
      "text/html": [
       "<div>\n",
       "<style scoped>\n",
       "    .dataframe tbody tr th:only-of-type {\n",
       "        vertical-align: middle;\n",
       "    }\n",
       "\n",
       "    .dataframe tbody tr th {\n",
       "        vertical-align: top;\n",
       "    }\n",
       "\n",
       "    .dataframe thead th {\n",
       "        text-align: right;\n",
       "    }\n",
       "</style>\n",
       "<table border=\"1\" class=\"dataframe\">\n",
       "  <thead>\n",
       "    <tr style=\"text-align: right;\">\n",
       "      <th></th>\n",
       "      <th>학번_x</th>\n",
       "      <th>이름</th>\n",
       "      <th>키</th>\n",
       "      <th>학번_y</th>\n",
       "      <th>몸무게</th>\n",
       "    </tr>\n",
       "  </thead>\n",
       "  <tbody>\n",
       "    <tr>\n",
       "      <th>0</th>\n",
       "      <td>1001</td>\n",
       "      <td>홍길동</td>\n",
       "      <td>180</td>\n",
       "      <td>1001</td>\n",
       "      <td>80.0</td>\n",
       "    </tr>\n",
       "    <tr>\n",
       "      <th>1</th>\n",
       "      <td>1002</td>\n",
       "      <td>일지매</td>\n",
       "      <td>175</td>\n",
       "      <td>1002</td>\n",
       "      <td>75.0</td>\n",
       "    </tr>\n",
       "    <tr>\n",
       "      <th>2</th>\n",
       "      <td>1003</td>\n",
       "      <td>전우치</td>\n",
       "      <td>168</td>\n",
       "      <td>NaN</td>\n",
       "      <td>NaN</td>\n",
       "    </tr>\n",
       "  </tbody>\n",
       "</table>\n",
       "</div>"
      ],
      "text/plain": [
       "   학번_x   이름    키  학번_y   몸무게\n",
       "0  1001  홍길동  180  1001  80.0\n",
       "1  1002  일지매  175  1002  75.0\n",
       "2  1003  전우치  168   NaN   NaN"
      ]
     },
     "execution_count": 40,
     "metadata": {},
     "output_type": "execute_result"
    }
   ],
   "source": [
    "# Merge 예제 - merge 할 기준을 지정하기\n",
    "pd.merge(stu_1 , stu_2 , how='left',left_on='이름', right_on='이름')"
   ]
  },
  {
   "cell_type": "code",
   "execution_count": 41,
   "id": "e25cdb5b",
   "metadata": {},
   "outputs": [
    {
     "data": {
      "text/html": [
       "<div>\n",
       "<style scoped>\n",
       "    .dataframe tbody tr th:only-of-type {\n",
       "        vertical-align: middle;\n",
       "    }\n",
       "\n",
       "    .dataframe tbody tr th {\n",
       "        vertical-align: top;\n",
       "    }\n",
       "\n",
       "    .dataframe thead th {\n",
       "        text-align: right;\n",
       "    }\n",
       "</style>\n",
       "<table border=\"1\" class=\"dataframe\">\n",
       "  <thead>\n",
       "    <tr style=\"text-align: right;\">\n",
       "      <th></th>\n",
       "      <th>학번_x</th>\n",
       "      <th>이름</th>\n",
       "      <th>키</th>\n",
       "      <th>학번_y</th>\n",
       "      <th>몸무게</th>\n",
       "    </tr>\n",
       "  </thead>\n",
       "  <tbody>\n",
       "    <tr>\n",
       "      <th>0</th>\n",
       "      <td>1001</td>\n",
       "      <td>홍길동</td>\n",
       "      <td>180.0</td>\n",
       "      <td>1001</td>\n",
       "      <td>80</td>\n",
       "    </tr>\n",
       "    <tr>\n",
       "      <th>1</th>\n",
       "      <td>1002</td>\n",
       "      <td>일지매</td>\n",
       "      <td>175.0</td>\n",
       "      <td>1002</td>\n",
       "      <td>75</td>\n",
       "    </tr>\n",
       "    <tr>\n",
       "      <th>2</th>\n",
       "      <td>NaN</td>\n",
       "      <td>강감찬</td>\n",
       "      <td>NaN</td>\n",
       "      <td>1004</td>\n",
       "      <td>68</td>\n",
       "    </tr>\n",
       "  </tbody>\n",
       "</table>\n",
       "</div>"
      ],
      "text/plain": [
       "   학번_x   이름      키  학번_y  몸무게\n",
       "0  1001  홍길동  180.0  1001   80\n",
       "1  1002  일지매  175.0  1002   75\n",
       "2   NaN  강감찬    NaN  1004   68"
      ]
     },
     "execution_count": 41,
     "metadata": {},
     "output_type": "execute_result"
    }
   ],
   "source": [
    "pd.merge(stu_1 , stu_2 , how='right', left_on='이름', right_on='이름')"
   ]
  },
  {
   "cell_type": "code",
   "execution_count": 42,
   "id": "36502c79",
   "metadata": {},
   "outputs": [
    {
     "data": {
      "text/html": [
       "<div>\n",
       "<style scoped>\n",
       "    .dataframe tbody tr th:only-of-type {\n",
       "        vertical-align: middle;\n",
       "    }\n",
       "\n",
       "    .dataframe tbody tr th {\n",
       "        vertical-align: top;\n",
       "    }\n",
       "\n",
       "    .dataframe thead th {\n",
       "        text-align: right;\n",
       "    }\n",
       "</style>\n",
       "<table border=\"1\" class=\"dataframe\">\n",
       "  <thead>\n",
       "    <tr style=\"text-align: right;\">\n",
       "      <th></th>\n",
       "      <th>학번_x</th>\n",
       "      <th>이름</th>\n",
       "      <th>키</th>\n",
       "      <th>학번_y</th>\n",
       "      <th>몸무게</th>\n",
       "    </tr>\n",
       "  </thead>\n",
       "  <tbody>\n",
       "    <tr>\n",
       "      <th>0</th>\n",
       "      <td>1001</td>\n",
       "      <td>홍길동</td>\n",
       "      <td>180.0</td>\n",
       "      <td>1001</td>\n",
       "      <td>80.0</td>\n",
       "    </tr>\n",
       "    <tr>\n",
       "      <th>1</th>\n",
       "      <td>1002</td>\n",
       "      <td>일지매</td>\n",
       "      <td>175.0</td>\n",
       "      <td>1002</td>\n",
       "      <td>75.0</td>\n",
       "    </tr>\n",
       "    <tr>\n",
       "      <th>2</th>\n",
       "      <td>1003</td>\n",
       "      <td>전우치</td>\n",
       "      <td>168.0</td>\n",
       "      <td>NaN</td>\n",
       "      <td>NaN</td>\n",
       "    </tr>\n",
       "    <tr>\n",
       "      <th>3</th>\n",
       "      <td>NaN</td>\n",
       "      <td>강감찬</td>\n",
       "      <td>NaN</td>\n",
       "      <td>1004</td>\n",
       "      <td>68.0</td>\n",
       "    </tr>\n",
       "  </tbody>\n",
       "</table>\n",
       "</div>"
      ],
      "text/plain": [
       "   학번_x   이름      키  학번_y   몸무게\n",
       "0  1001  홍길동  180.0  1001  80.0\n",
       "1  1002  일지매  175.0  1002  75.0\n",
       "2  1003  전우치  168.0   NaN   NaN\n",
       "3   NaN  강감찬    NaN  1004  68.0"
      ]
     },
     "execution_count": 42,
     "metadata": {},
     "output_type": "execute_result"
    }
   ],
   "source": [
    "pd.merge(stu_1 , stu_2 , how='outer', left_on='이름', right_on='이름')"
   ]
  },
  {
   "cell_type": "markdown",
   "id": "a4acf598",
   "metadata": {},
   "source": [
    "- axis=0 위아래로 merge\n",
    "- axis=1 좌우로 merge"
   ]
  },
  {
   "cell_type": "code",
   "execution_count": 43,
   "id": "949abb56",
   "metadata": {},
   "outputs": [
    {
     "data": {
      "text/html": [
       "<div>\n",
       "<style scoped>\n",
       "    .dataframe tbody tr th:only-of-type {\n",
       "        vertical-align: middle;\n",
       "    }\n",
       "\n",
       "    .dataframe tbody tr th {\n",
       "        vertical-align: top;\n",
       "    }\n",
       "\n",
       "    .dataframe thead th {\n",
       "        text-align: right;\n",
       "    }\n",
       "</style>\n",
       "<table border=\"1\" class=\"dataframe\">\n",
       "  <thead>\n",
       "    <tr style=\"text-align: right;\">\n",
       "      <th></th>\n",
       "      <th>학번</th>\n",
       "      <th>이름</th>\n",
       "      <th>키</th>\n",
       "      <th>몸무게</th>\n",
       "    </tr>\n",
       "  </thead>\n",
       "  <tbody>\n",
       "    <tr>\n",
       "      <th>0</th>\n",
       "      <td>1001</td>\n",
       "      <td>홍길동</td>\n",
       "      <td>180.0</td>\n",
       "      <td>NaN</td>\n",
       "    </tr>\n",
       "    <tr>\n",
       "      <th>1</th>\n",
       "      <td>1002</td>\n",
       "      <td>일지매</td>\n",
       "      <td>175.0</td>\n",
       "      <td>NaN</td>\n",
       "    </tr>\n",
       "    <tr>\n",
       "      <th>2</th>\n",
       "      <td>1003</td>\n",
       "      <td>전우치</td>\n",
       "      <td>168.0</td>\n",
       "      <td>NaN</td>\n",
       "    </tr>\n",
       "    <tr>\n",
       "      <th>0</th>\n",
       "      <td>1001</td>\n",
       "      <td>홍길동</td>\n",
       "      <td>NaN</td>\n",
       "      <td>80.0</td>\n",
       "    </tr>\n",
       "    <tr>\n",
       "      <th>1</th>\n",
       "      <td>1002</td>\n",
       "      <td>일지매</td>\n",
       "      <td>NaN</td>\n",
       "      <td>75.0</td>\n",
       "    </tr>\n",
       "    <tr>\n",
       "      <th>2</th>\n",
       "      <td>1004</td>\n",
       "      <td>강감찬</td>\n",
       "      <td>NaN</td>\n",
       "      <td>68.0</td>\n",
       "    </tr>\n",
       "  </tbody>\n",
       "</table>\n",
       "</div>"
      ],
      "text/plain": [
       "     학번   이름      키   몸무게\n",
       "0  1001  홍길동  180.0   NaN\n",
       "1  1002  일지매  175.0   NaN\n",
       "2  1003  전우치  168.0   NaN\n",
       "0  1001  홍길동    NaN  80.0\n",
       "1  1002  일지매    NaN  75.0\n",
       "2  1004  강감찬    NaN  68.0"
      ]
     },
     "execution_count": 43,
     "metadata": {},
     "output_type": "execute_result"
    }
   ],
   "source": [
    "pd.concat([stu_1, stu_2], axis=0)"
   ]
  },
  {
   "cell_type": "code",
   "execution_count": 44,
   "id": "c648b775",
   "metadata": {},
   "outputs": [
    {
     "data": {
      "text/html": [
       "<div>\n",
       "<style scoped>\n",
       "    .dataframe tbody tr th:only-of-type {\n",
       "        vertical-align: middle;\n",
       "    }\n",
       "\n",
       "    .dataframe tbody tr th {\n",
       "        vertical-align: top;\n",
       "    }\n",
       "\n",
       "    .dataframe thead th {\n",
       "        text-align: right;\n",
       "    }\n",
       "</style>\n",
       "<table border=\"1\" class=\"dataframe\">\n",
       "  <thead>\n",
       "    <tr style=\"text-align: right;\">\n",
       "      <th></th>\n",
       "      <th>학번</th>\n",
       "      <th>이름</th>\n",
       "      <th>키</th>\n",
       "      <th>학번</th>\n",
       "      <th>이름</th>\n",
       "      <th>몸무게</th>\n",
       "    </tr>\n",
       "  </thead>\n",
       "  <tbody>\n",
       "    <tr>\n",
       "      <th>0</th>\n",
       "      <td>1001</td>\n",
       "      <td>홍길동</td>\n",
       "      <td>180</td>\n",
       "      <td>1001</td>\n",
       "      <td>홍길동</td>\n",
       "      <td>80</td>\n",
       "    </tr>\n",
       "    <tr>\n",
       "      <th>1</th>\n",
       "      <td>1002</td>\n",
       "      <td>일지매</td>\n",
       "      <td>175</td>\n",
       "      <td>1002</td>\n",
       "      <td>일지매</td>\n",
       "      <td>75</td>\n",
       "    </tr>\n",
       "    <tr>\n",
       "      <th>2</th>\n",
       "      <td>1003</td>\n",
       "      <td>전우치</td>\n",
       "      <td>168</td>\n",
       "      <td>1004</td>\n",
       "      <td>강감찬</td>\n",
       "      <td>68</td>\n",
       "    </tr>\n",
       "  </tbody>\n",
       "</table>\n",
       "</div>"
      ],
      "text/plain": [
       "     학번   이름    키    학번   이름  몸무게\n",
       "0  1001  홍길동  180  1001  홍길동   80\n",
       "1  1002  일지매  175  1002  일지매   75\n",
       "2  1003  전우치  168  1004  강감찬   68"
      ]
     },
     "execution_count": 44,
     "metadata": {},
     "output_type": "execute_result"
    }
   ],
   "source": [
    "pd.concat([stu_1, stu_2], axis=1)"
   ]
  }
 ],
 "metadata": {
  "kernelspec": {
   "display_name": "Python 3 (ipykernel)",
   "language": "python",
   "name": "python3"
  },
  "language_info": {
   "codemirror_mode": {
    "name": "ipython",
    "version": 3
   },
   "file_extension": ".py",
   "mimetype": "text/x-python",
   "name": "python",
   "nbconvert_exporter": "python",
   "pygments_lexer": "ipython3",
   "version": "3.9.12"
  }
 },
 "nbformat": 4,
 "nbformat_minor": 5
}
