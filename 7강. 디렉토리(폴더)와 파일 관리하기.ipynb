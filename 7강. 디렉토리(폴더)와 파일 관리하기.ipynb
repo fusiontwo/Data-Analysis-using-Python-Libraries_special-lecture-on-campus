{
 "cells": [
  {
   "cell_type": "markdown",
   "id": "c64b22ce",
   "metadata": {},
   "source": [
    "## os 모듈을 활용한 디렉토리 관리"
   ]
  },
  {
   "cell_type": "code",
   "execution_count": null,
   "id": "590eb4a4",
   "metadata": {},
   "outputs": [],
   "source": [
    "# getcwd() 와 chdir()\n",
    "\n",
    "import os\n",
    "\n",
    "print('현재 디렉토리:', os.getcwd() )\n",
    "os.chdir(\"c:\\\\temp\")\n",
    "print('이동 후 디렉토리:', os.getcwd() )\n",
    "\n",
    "# get(가져와라) cwd(current working directory, 현재 작업 중인 폴더를)\n",
    "# chdir(change directory)\n",
    "# getcwd()는 저장한 파일의 위치를 모르겠을 때 많이 사용\n",
    "# 강의에서는 C:\\py_temp에서 C:\\temp로 이동하는 것을 보여주셨다."
   ]
  },
  {
   "cell_type": "code",
   "execution_count": null,
   "id": "0bb38d3c",
   "metadata": {},
   "outputs": [],
   "source": [
    "# listdir() 함수 - 지정된 폴더내의 파일과 폴더의 목록을 출력하는 함수\n",
    "\n",
    "os.listdir(\"c:\\\\listdir_test\") # 리스트 형태로 출력"
   ]
  },
  {
   "cell_type": "code",
   "execution_count": null,
   "id": "7522ef46",
   "metadata": {},
   "outputs": [],
   "source": [
    "# listdir() 함수 - 지정된 폴더내의 파일과 폴더의 목록을 출력하는 함수\n",
    "\n",
    "for i in os.listdir(\"c:\\\\listdir_test\") :  # 반복문으로 하나씩 출력\n",
    "    print(i) "
   ]
  },
  {
   "cell_type": "code",
   "execution_count": null,
   "id": "a48e1333",
   "metadata": {},
   "outputs": [],
   "source": [
    "# os.path.exists() 함수 - 특정 폴더의 존재 여부 확인\n",
    "\n",
    "print( os.path.exists(\"c:\\\\py_temp\"))\n",
    "print( os.path.exists(\"c:\\\\temp100\"))"
   ]
  },
  {
   "cell_type": "code",
   "execution_count": null,
   "id": "6fcf125b",
   "metadata": {},
   "outputs": [],
   "source": [
    "# mkdir() 함수와 makedirs() 함수\n",
    "\n",
    "os.mkdir(\"c:\\\\temp1\\\\temp2\")"
   ]
  },
  {
   "cell_type": "code",
   "execution_count": null,
   "id": "0d04e69c",
   "metadata": {},
   "outputs": [],
   "source": [
    "os.makedirs(\"c:\\\\temp1\\\\temp2\") # 로컬디스크(C:)에 새로운 폴더 생성 (temp1 안에 temp 2)"
   ]
  },
  {
   "cell_type": "markdown",
   "id": "a57a86bf",
   "metadata": {},
   "source": [
    "### mkdir()과 makedirs() 비교\n",
    "- mkdir()은 한 번에 한 폴더만 만들 수 있다.\n",
    "\n",
    "C:\\  ->  temp1   \n",
    "\n",
    "temp1  ->  temp2\n",
    "- makedirs()는 한 번에 여러 개의 폴더를 만들 수 있다.\n",
    "\n",
    "C:\\  ->  temp1  ->  temp2\n",
    "- mkdir()을 사용할 때 폴더 이름을 잘못 입력하면 '지정된 경로를 찾을 수 없습니다.'가 나온다.\n",
    "- makedirs()의 단점은 폴더 이름을 잘못 입력하면 그대로 잘못된 이름으로 저장된다는 것이다."
   ]
  },
  {
   "cell_type": "code",
   "execution_count": null,
   "id": "92fe3cc5",
   "metadata": {},
   "outputs": [],
   "source": [
    "os.makedirs(\"c:\\\\temp1\\\\temp2\")"
   ]
  },
  {
   "cell_type": "code",
   "execution_count": null,
   "id": "9840034d",
   "metadata": {},
   "outputs": [],
   "source": [
    "# rmdir() 함수와 removedirs() 함수\n",
    "\n",
    "os.rmdir(\"c:\\\\temp1\\\\temp2\\\\\")\n",
    "os.rmdir(\"c:\\\\temp1\\\\\")\n",
    "\n",
    "os.makedirs(\"c:\\\\temp1\\\\temp2\\\\\")\n",
    "os.removedirs(\"c:\\\\temp1\\\\temp2\\\\\")"
   ]
  },
  {
   "cell_type": "markdown",
   "id": "5108d8c7",
   "metadata": {},
   "source": [
    "### rmdir() 과 removedirs() 비교\n",
    "- rmdir()은 한 번에 한 단계씩 제거\n",
    "- removedirs()은 한 번에 경로를 모두 제거"
   ]
  },
  {
   "cell_type": "code",
   "execution_count": null,
   "id": "be3699d6",
   "metadata": {},
   "outputs": [],
   "source": [
    "# 디렉토리 관리 예시\n",
    "import os\n",
    "\n",
    "dir1 = input(\"폴더 이름을 입력하세요(예:c:\\\\temp) : \")\n",
    "os.getcwd()\n",
    "os.chdir(dir1[0:3])\n",
    "\n",
    "dir_list = os.listdir()\n",
    "\n",
    "if os.path.isdir(dir1) : # os.path.isdir()은 os.path.exists()와 동일\n",
    "    dir_name=dir1+'_2'\n",
    "    os.makedirs(dir_name)\n",
    "    print('입력하신 경로가 존재하여 %s 로 폴더를 생성했습니다' %dir_name)\n",
    "else :\n",
    "    os.mkdir(dir1)\n",
    "    print('입력하신 %s 경로의 폴더를 생성했습니다' %dir1)"
   ]
  },
  {
   "cell_type": "markdown",
   "id": "794070c3",
   "metadata": {},
   "source": [
    "## 텍스트 파일 관리 모드 옵션\n",
    "- t 텍스트(기본)\n",
    "- b 바이너리(이미지 관리에 주로 사용)\n",
    "- r 읽기(기본)\n",
    "- w 쓰기\n",
    "- a 이어쓰기\n",
    "- +읽기, 쓰기"
   ]
  },
  {
   "cell_type": "code",
   "execution_count": null,
   "id": "fee02626",
   "metadata": {},
   "outputs": [],
   "source": [
    "os.makedirs(\"c:\\\\py_temp2\")\n",
    "os.chdir(\"c:\\\\py_temp2\")\n",
    "print( os.getcwd() )\n",
    "\n",
    "file = open(\"test1.txt\", \"w\") # 쓸 종이를 준비 # \"w\"는 덮어쓰기\n",
    "file.write(\"텍스트 파일에 처음 쓴 글입니다\")\n",
    "file.close() # 저장"
   ]
  },
  {
   "cell_type": "code",
   "execution_count": null,
   "id": "8c976328",
   "metadata": {},
   "outputs": [],
   "source": [
    "file2 = open(\"test1.txt\",\"w\")\n",
    "file2.write(\"텍스트 파일에 두번째 쓴 글입니다\")\n",
    "file2.close()"
   ]
  },
  {
   "cell_type": "code",
   "execution_count": null,
   "id": "1c9c039e",
   "metadata": {},
   "outputs": [],
   "source": [
    "file3 = open(\"test1.txt\",\"a\")\n",
    "file3.write(\"텍스트 파일에 세번째 쓴 글입니다\")\n",
    "file3.close()"
   ]
  },
  {
   "cell_type": "code",
   "execution_count": null,
   "id": "7dc96fba",
   "metadata": {},
   "outputs": [],
   "source": [
    "file4 = open(\"test1.txt\",\"a\")\n",
    "file4.write(\"\\n\" + \"텍스트 파일에 네번째 쓴 글입니다\")\n",
    "file4.close()"
   ]
  },
  {
   "cell_type": "code",
   "execution_count": 1,
   "id": "70ca8f42",
   "metadata": {},
   "outputs": [
    {
     "data": {
      "text/plain": [
       "['1.새우깡\\n', '2.맛동산\\n', '3.감자깡\\n', '4.고구마깡\\n', '5.꼬깔콘']"
      ]
     },
     "execution_count": 1,
     "metadata": {},
     "output_type": "execute_result"
    }
   ],
   "source": [
    "# txt 형식 파일 내용 읽기\n",
    "\n",
    "f = open(\"c:\\\\py_temp2\\\\readme.txt\",\"r\",encoding=\"utf-8\")\n",
    "f.readlines()\n",
    "\n",
    "# 에러'cp949' codec can't decode byte 0xec in position 2: illegal multibyte sequence\n",
    "# python3 부터는 ANSI 기준으로 작성된 파일만 읽을 수 있어서, UTF-8로 작성된 파일은 보통 방법으로 읽을 때 에러가 나는 것이다.\n",
    "# 에러를 없애기 위해 ,encoding=\"utf-8\"을 추가했다."
   ]
  },
  {
   "cell_type": "code",
   "execution_count": 2,
   "id": "8c0ac0fd",
   "metadata": {},
   "outputs": [
    {
     "name": "stdout",
     "output_type": "stream",
     "text": [
      "['1.새우깡\\n', '2.맛동산\\n', '3.감자깡\\n', '4.고구마깡\\n', '5.꼬깔콘']\n",
      "\n",
      "\n",
      "1.새우깡\n",
      "\n",
      "2.맛동산\n",
      "\n",
      "\n",
      "\n",
      "1.새우깡\n",
      "\n",
      "2.맛동산\n",
      "\n",
      "3.감자깡\n",
      "\n",
      "4.고구마깡\n",
      "\n",
      "5.꼬깔콘\n"
     ]
    }
   ],
   "source": [
    "f = open(\"c:\\\\py_temp2\\\\readme.txt\",\"r\", encoding=\"utf-8\")\n",
    "snack = f.readlines()\n",
    "print(snack)\n",
    "print('\\n')\n",
    "\n",
    "# index 방법으로 특정 행을 조회하기\n",
    "print(snack[0])\n",
    "print(snack[1])\n",
    "print(\"\\n\")\n",
    "\n",
    "# for 반복문으로 한꺼번에 출력하기\n",
    "for i in snack :\n",
    "    print(i)"
   ]
  },
  {
   "cell_type": "code",
   "execution_count": 3,
   "id": "907ff1b5",
   "metadata": {},
   "outputs": [
    {
     "name": "stdout",
     "output_type": "stream",
     "text": [
      "   과목번호   과목명\n",
      "0     1    수학\n",
      "1     2    과학\n",
      "2     3  빅데이터\n"
     ]
    }
   ],
   "source": [
    "import pandas as pd\n",
    "\n",
    "# 표 ( 데이터 프레임 ) 만들기\n",
    "no = [ ]\n",
    "subject_name = [ ]\n",
    "\n",
    "no.append(1)\n",
    "no.append(2)\n",
    "no.append(3)\n",
    "\n",
    "subject_name.append('수학')\n",
    "subject_name.append('과학')\n",
    "subject_name.append('빅데이터')\n",
    "\n",
    "subject = pd.DataFrame( )\n",
    "subject['과목번호'] = no\n",
    "subject['과목명'] = subject_name\n",
    "print(subject)"
   ]
  },
  {
   "cell_type": "code",
   "execution_count": null,
   "id": "b7e4a41d",
   "metadata": {},
   "outputs": [],
   "source": [
    "# csv 형식으로 저장하기 \n",
    "subject.to_csv(\"c:\\\\py_temp2\\\\subject.csv\", encoding=\"utf-8-sig\", index=False)\n",
    "\n",
    "# xls 형식으로 저장하기\n",
    "subject.to_excel(\"c:\\\\py_temp2\\\\subject.xls\", index=False, engine = 'openpyxl')"
   ]
  },
  {
   "cell_type": "code",
   "execution_count": 4,
   "id": "605fe333",
   "metadata": {},
   "outputs": [
    {
     "name": "stdout",
     "output_type": "stream",
     "text": [
      "{'전우치': 'aaa@gmail.com', '일지매': 'bbb@daum.net', '홍길동': 'ccc@naver.com'}\n"
     ]
    }
   ],
   "source": [
    "# 실습용 파일 원하는 폴더에 넣어두고 시작\n",
    "# xlsx 형식의 파일 내용 불러오기-openpyxl\n",
    "\n",
    "import openpyxl\n",
    "wb = openpyxl.load_workbook(\"c://py_temp2/email.xlsx\")\n",
    "sheet = wb['Sheet1']\n",
    "\n",
    "contents = { }\n",
    "for i in range(2,sheet.max_row + 1) :\n",
    "    name = sheet.cell(row=i, column=1).value\n",
    "    email = sheet.cell(row=i, column=2).value\n",
    "    \n",
    "    contents[name] = email\n",
    "    \n",
    "print(contents)"
   ]
  },
  {
   "cell_type": "code",
   "execution_count": 5,
   "id": "4b6f6030",
   "metadata": {},
   "outputs": [
    {
     "data": {
      "text/html": [
       "<div>\n",
       "<style scoped>\n",
       "    .dataframe tbody tr th:only-of-type {\n",
       "        vertical-align: middle;\n",
       "    }\n",
       "\n",
       "    .dataframe tbody tr th {\n",
       "        vertical-align: top;\n",
       "    }\n",
       "\n",
       "    .dataframe thead th {\n",
       "        text-align: right;\n",
       "    }\n",
       "</style>\n",
       "<table border=\"1\" class=\"dataframe\">\n",
       "  <thead>\n",
       "    <tr style=\"text-align: right;\">\n",
       "      <th></th>\n",
       "      <th>name</th>\n",
       "      <th>email</th>\n",
       "    </tr>\n",
       "  </thead>\n",
       "  <tbody>\n",
       "    <tr>\n",
       "      <th>0</th>\n",
       "      <td>전우치</td>\n",
       "      <td>aaa@gmail.com</td>\n",
       "    </tr>\n",
       "    <tr>\n",
       "      <th>1</th>\n",
       "      <td>일지매</td>\n",
       "      <td>bbb@daum.net</td>\n",
       "    </tr>\n",
       "    <tr>\n",
       "      <th>2</th>\n",
       "      <td>홍길동</td>\n",
       "      <td>ccc@naver.com</td>\n",
       "    </tr>\n",
       "  </tbody>\n",
       "</table>\n",
       "</div>"
      ],
      "text/plain": [
       "  name          email\n",
       "0  전우치  aaa@gmail.com\n",
       "1  일지매   bbb@daum.net\n",
       "2  홍길동  ccc@naver.com"
      ]
     },
     "execution_count": 5,
     "metadata": {},
     "output_type": "execute_result"
    }
   ],
   "source": [
    "# xlsx 형식의 파일 내용 불러오기-pandas\n",
    "\n",
    "import pandas as pd\n",
    "data = pd.read_excel(\"c:\\\\py_temp2\\\\email.xls\",\n",
    "                     sheet_name = 'Sheet1')\n",
    "data"
   ]
  }
 ],
 "metadata": {
  "kernelspec": {
   "display_name": "Python 3 (ipykernel)",
   "language": "python",
   "name": "python3"
  },
  "language_info": {
   "codemirror_mode": {
    "name": "ipython",
    "version": 3
   },
   "file_extension": ".py",
   "mimetype": "text/x-python",
   "name": "python",
   "nbconvert_exporter": "python",
   "pygments_lexer": "ipython3",
   "version": "3.9.12"
  }
 },
 "nbformat": 4,
 "nbformat_minor": 5
}
