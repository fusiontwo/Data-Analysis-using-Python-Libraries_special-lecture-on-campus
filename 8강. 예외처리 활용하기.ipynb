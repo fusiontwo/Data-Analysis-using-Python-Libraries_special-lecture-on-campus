{
 "cells": [
  {
   "cell_type": "markdown",
   "id": "6a3ca994",
   "metadata": {},
   "source": [
    "### 예외처리의 의미\n",
    "- 프로그램 작성 시 오타로 발생하는 에러는 컴파일 에러\n",
    "\n",
    "- 컴파일 에러를 제외한 논리적인 오류를 예외라고 함"
   ]
  },
  {
   "cell_type": "markdown",
   "id": "b8bd1727",
   "metadata": {},
   "source": [
    "### 예외처리의 문법\n",
    "try:\n",
    "\n",
    "    예외가 발생할 문장\n",
    "    \n",
    "except 예외 종류:\n",
    "\n",
    "    예외가 발생하면 실행할 문장\n",
    "    \n",
    "else:\n",
    "\n",
    "    예외가 발생하지 않을 때 실행할 문장"
   ]
  },
  {
   "cell_type": "code",
   "execution_count": 3,
   "id": "59d9ef68",
   "metadata": {},
   "outputs": [
    {
     "name": "stdout",
     "output_type": "stream",
     "text": [
      "정상적인 경우\n",
      "숫자 1개를 입력하세요: 10\n",
      "10\n",
      "\n",
      "\n",
      "예외가 발생하는 경우\n",
      "숫자 1개를 입력하세요:A\n"
     ]
    },
    {
     "ename": "ValueError",
     "evalue": "invalid literal for int() with base 10: 'A'",
     "output_type": "error",
     "traceback": [
      "\u001b[1;31m---------------------------------------------------------------------------\u001b[0m",
      "\u001b[1;31mValueError\u001b[0m                                Traceback (most recent call last)",
      "Input \u001b[1;32mIn [3]\u001b[0m, in \u001b[0;36m<cell line: 11>\u001b[1;34m()\u001b[0m\n\u001b[0;32m      9\u001b[0m \u001b[38;5;66;03m# 예외가 발생하는 경우\u001b[39;00m\n\u001b[0;32m     10\u001b[0m \u001b[38;5;28mprint\u001b[39m(\u001b[38;5;124m'\u001b[39m\u001b[38;5;124m예외가 발생하는 경우\u001b[39m\u001b[38;5;124m'\u001b[39m)\n\u001b[1;32m---> 11\u001b[0m no2 \u001b[38;5;241m=\u001b[39m \u001b[38;5;28;43mint\u001b[39;49m\u001b[43m(\u001b[49m\u001b[38;5;28;43minput\u001b[39;49m\u001b[43m(\u001b[49m\u001b[38;5;124;43m'\u001b[39;49m\u001b[38;5;124;43m숫자 1개를 입력하세요:\u001b[39;49m\u001b[38;5;124;43m'\u001b[39;49m\u001b[43m)\u001b[49m\u001b[43m)\u001b[49m\n",
      "\u001b[1;31mValueError\u001b[0m: invalid literal for int() with base 10: 'A'"
     ]
    }
   ],
   "source": [
    "# 예외처리 예제 1\n",
    "\n",
    "# 정상적인 경우\n",
    "print('정상적인 경우')\n",
    "no1 = int(input('숫자 1개를 입력하세요: '))\n",
    "print(no1)\n",
    "\n",
    "print(\"\\n\")\n",
    "# 예외가 발생하는 경우\n",
    "print('예외가 발생하는 경우')\n",
    "no2 = int(input('숫자 1개를 입력하세요:'))"
   ]
  },
  {
   "cell_type": "code",
   "execution_count": 5,
   "id": "08758d50",
   "metadata": {},
   "outputs": [
    {
     "name": "stdout",
     "output_type": "stream",
     "text": [
      "예외가 발생하는 경우\n",
      "숫자 1개를 입력하세요:A\n",
      "숫자를 입력하세요\n"
     ]
    }
   ],
   "source": [
    "# 예외처리 예제 2\n",
    "# 예외 처리를 적용한 경우\n",
    "print('예외가 발생하는 경우')\n",
    "try :\n",
    "    no2 = int(input('숫자 1개를 입력하세요:'))\n",
    "except ValueError :\n",
    "    print('숫자를 입력하세요')"
   ]
  },
  {
   "cell_type": "code",
   "execution_count": 6,
   "id": "1c10e463",
   "metadata": {},
   "outputs": [
    {
     "ename": "ZeroDivisionError",
     "evalue": "division by zero",
     "output_type": "error",
     "traceback": [
      "\u001b[1;31m---------------------------------------------------------------------------\u001b[0m",
      "\u001b[1;31mZeroDivisionError\u001b[0m                         Traceback (most recent call last)",
      "Input \u001b[1;32mIn [6]\u001b[0m, in \u001b[0;36m<cell line: 5>\u001b[1;34m()\u001b[0m\n\u001b[0;32m      3\u001b[0m no1 \u001b[38;5;241m=\u001b[39m \u001b[38;5;241m10\u001b[39m\n\u001b[0;32m      4\u001b[0m no2 \u001b[38;5;241m=\u001b[39m \u001b[38;5;241m0\u001b[39m\n\u001b[1;32m----> 5\u001b[0m \u001b[38;5;28mprint\u001b[39m(\u001b[43mno1\u001b[49m\u001b[43m \u001b[49m\u001b[38;5;241;43m/\u001b[39;49m\u001b[43m \u001b[49m\u001b[43mno2\u001b[49m)\n",
      "\u001b[1;31mZeroDivisionError\u001b[0m: division by zero"
     ]
    }
   ],
   "source": [
    "# 예외처리 예제 3\n",
    "\n",
    "no1 = 10\n",
    "no2 = 0\n",
    "print(no1 / no2)"
   ]
  },
  {
   "cell_type": "code",
   "execution_count": 8,
   "id": "7551b6f4",
   "metadata": {},
   "outputs": [
    {
     "name": "stdout",
     "output_type": "stream",
     "text": [
      " 0으로 나눌수 없습니다\n"
     ]
    }
   ],
   "source": [
    "try :\n",
    "    print( no1 / no2 )\n",
    "except ZeroDivisionError :\n",
    "    print(\" 0으로 나눌수 없습니다\")"
   ]
  },
  {
   "cell_type": "code",
   "execution_count": 9,
   "id": "41302088",
   "metadata": {},
   "outputs": [
    {
     "name": "stdout",
     "output_type": "stream",
     "text": [
      " 예외 상황이 발생했습니다 \n"
     ]
    }
   ],
   "source": [
    "# 예외처리 예제 4\n",
    "try :\n",
    "    print( no1 / no2 )\n",
    "except ( ValueError , ZeroDivisionError ) :\n",
    "    print(\" 예외 상황이 발생했습니다 \")"
   ]
  },
  {
   "cell_type": "code",
   "execution_count": 11,
   "id": "e829f37f",
   "metadata": {},
   "outputs": [
    {
     "name": "stdout",
     "output_type": "stream",
     "text": [
      "0으로 나눌수 없습니다\n"
     ]
    }
   ],
   "source": [
    "# 예외처리 예제 5\n",
    "\n",
    "no1 = 10\n",
    "no2 = 0\n",
    "\n",
    "try :\n",
    "    print( no1 / no2 )\n",
    "except ZeroDivisionError :\n",
    "    print(\"0으로 나눌수 없습니다\")\n",
    "except ValueError :\n",
    "    print(\"잘못된 값입니다\")"
   ]
  },
  {
   "cell_type": "code",
   "execution_count": 14,
   "id": "bf445961",
   "metadata": {},
   "outputs": [
    {
     "name": "stdout",
     "output_type": "stream",
     "text": [
      "예외가 발생했습니다\n"
     ]
    }
   ],
   "source": [
    "# 예외처리 예제 6\n",
    "no1 = 10\n",
    "no2 = 0\n",
    "\n",
    "try :\n",
    "    print(no1 / no2)\n",
    "except :   # 'except :' 뒤에 구체적인 에러가 안 적혀 있으면 '모든 에러'를 의미\n",
    "    print(\"예외가 발생했습니다\")"
   ]
  },
  {
   "cell_type": "code",
   "execution_count": 16,
   "id": "67ef59b1",
   "metadata": {},
   "outputs": [
    {
     "name": "stdout",
     "output_type": "stream",
     "text": [
      "숫자만 입력하세요: 3\n",
      "입력하신 숫자는 3 입니다\n"
     ]
    }
   ],
   "source": [
    "# 예외처리 예제 7\n",
    "\n",
    "try :\n",
    "    no = int(input(\"숫자만 입력하세요: \"))\n",
    "except :\n",
    "    print(\"꼭 숫자만 입력하세요!\")\n",
    "else :\n",
    "    print(\"입력하신 숫자는 %s 입니다\" %no)"
   ]
  },
  {
   "cell_type": "code",
   "execution_count": 17,
   "id": "0f4f2263",
   "metadata": {},
   "outputs": [
    {
     "name": "stdout",
     "output_type": "stream",
     "text": [
      "숫자만 입력하세요: A\n",
      "꼭 숫자만 입력하세요!\n"
     ]
    }
   ],
   "source": [
    "# 예외처리 예제 7\n",
    "\n",
    "try :\n",
    "    no = int(input(\"숫자만 입력하세요: \"))\n",
    "except :\n",
    "    print(\"꼭 숫자만 입력하세요!\")\n",
    "else :\n",
    "    print(\"입력하신 숫자는 %s 입니다\" %no)"
   ]
  },
  {
   "cell_type": "code",
   "execution_count": 18,
   "id": "50a8a9ae",
   "metadata": {},
   "outputs": [
    {
     "name": "stdout",
     "output_type": "stream",
     "text": [
      "숫자를 입력하세요4\n",
      "입력한 숫자는 4입니다\n",
      "finally는 무조건 실행됩니다\n"
     ]
    }
   ],
   "source": [
    "# 예외처리 예제 - finally 사용하기\n",
    "\n",
    "try :\n",
    "    num = int(input('숫자를 입력하세요'))\n",
    "except ValueError :\n",
    "    print('숫자가 아닙니다')\n",
    "else :\n",
    "    print('입력한 숫자는 %s입니다' %num)\n",
    "finally :\n",
    "    print('finally는 무조건 실행됩니다')"
   ]
  },
  {
   "cell_type": "code",
   "execution_count": 19,
   "id": "412f9e44",
   "metadata": {},
   "outputs": [
    {
     "name": "stdout",
     "output_type": "stream",
     "text": [
      "숫자를 입력하세요:aaa\n",
      "숫자가 아닙니다\n",
      "finally는 무조건 실행됩니다\n"
     ]
    }
   ],
   "source": [
    "# 예외처리 예제 - finally 사용하기\n",
    "\n",
    "try :\n",
    "    num = int(input('숫자를 입력하세요:'))\n",
    "except ValueError :\n",
    "    print('숫자가 아닙니다')\n",
    "else :\n",
    "    print('입력한 숫자는 %s입니다' %num)\n",
    "finally :\n",
    "    print('finally는 무조건 실행됩니다')"
   ]
  },
  {
   "cell_type": "code",
   "execution_count": 20,
   "id": "450ee879",
   "metadata": {},
   "outputs": [
    {
     "name": "stdout",
     "output_type": "stream",
     "text": [
      "숫자를 입력하세요:3\n",
      "0보다 큼\n"
     ]
    }
   ],
   "source": [
    "# 예외처리 예제 - raise 로 직접 예외를 만들기\n",
    "try :\n",
    "    num = int(input('숫자를 입력하세요:'))\n",
    "    raise ValueError('0보다 작음', '0임', '0보다 큼')\n",
    "except ValueError as e :\n",
    "    if num < 0 :\n",
    "        print(e.args[0])\n",
    "    elif num == 0 :\n",
    "        print(e.args[1])\n",
    "    else :\n",
    "        print(e.args[2])"
   ]
  },
  {
   "cell_type": "code",
   "execution_count": 21,
   "id": "8b7ef360",
   "metadata": {},
   "outputs": [
    {
     "name": "stdout",
     "output_type": "stream",
     "text": [
      "숫자를 입력하세요:0\n",
      "0임\n"
     ]
    }
   ],
   "source": [
    "# 예외처리 예제 - raise 로 직접 예외를 만들기\n",
    "try :\n",
    "    num = int(input('숫자를 입력하세요:'))\n",
    "    raise ValueError('0보다 작음', '0임', '0보다 큼')\n",
    "except ValueError as e :\n",
    "    if num < 0 :\n",
    "        print(e.args[0])\n",
    "    elif num == 0 :\n",
    "        print(e.args[1])\n",
    "    else :\n",
    "        print(e.args[2])"
   ]
  },
  {
   "cell_type": "markdown",
   "id": "62274baf",
   "metadata": {},
   "source": [
    "- 예외처리연습.txt 파일 만들 때 인코딩 방식 변경하기\n",
    "\n",
    "다른 이름으로 저장할 때 인코딩 옵션을 UTF-8 에서 ANSI 로 변경"
   ]
  },
  {
   "cell_type": "code",
   "execution_count": 25,
   "id": "df31b7f4",
   "metadata": {},
   "outputs": [
    {
     "name": "stdout",
     "output_type": "stream",
     "text": [
      "몇 건을 출력할까요?: 10\n",
      "\n",
      "\n",
      "홍길동\n",
      "\n",
      "일지매\n",
      "\n",
      "전우치\n",
      "\n",
      "강감찬\n",
      "\n",
      "신사임당\n"
     ]
    },
    {
     "ename": "IndexError",
     "evalue": "list index out of range",
     "output_type": "error",
     "traceback": [
      "\u001b[1;31m---------------------------------------------------------------------------\u001b[0m",
      "\u001b[1;31mIndexError\u001b[0m                                Traceback (most recent call last)",
      "Input \u001b[1;32mIn [25]\u001b[0m, in \u001b[0;36m<cell line: 10>\u001b[1;34m()\u001b[0m\n\u001b[0;32m      8\u001b[0m \u001b[38;5;28mprint\u001b[39m(\u001b[38;5;124m\"\u001b[39m\u001b[38;5;130;01m\\n\u001b[39;00m\u001b[38;5;124m\"\u001b[39m)\n\u001b[0;32m     10\u001b[0m \u001b[38;5;28;01mfor\u001b[39;00m i \u001b[38;5;129;01min\u001b[39;00m \u001b[38;5;28mrange\u001b[39m(\u001b[38;5;241m0\u001b[39m, no) :\n\u001b[1;32m---> 11\u001b[0m     \u001b[38;5;28mprint\u001b[39m(\u001b[43mtxt\u001b[49m\u001b[43m[\u001b[49m\u001b[43mi\u001b[49m\u001b[43m]\u001b[49m)\n",
      "\u001b[1;31mIndexError\u001b[0m: list index out of range"
     ]
    }
   ],
   "source": [
    "# 예외처리 예시 - 파일의 내용 출력\n",
    "\n",
    "f = open(\"c:\\\\py_temp2\\\\예외처리연습.txt\")\n",
    "txt = f.readlines()\n",
    "txt\n",
    "\n",
    "no = int(input(\"몇 건을 출력할까요?: \"))\n",
    "print(\"\\n\")\n",
    "\n",
    "for i in range(0, no) :\n",
    "    print(txt[i]) # 실제 데이터보다 많은 수의 데이터를 요구하면 오류"
   ]
  },
  {
   "cell_type": "code",
   "execution_count": 27,
   "id": "4bdc7f57",
   "metadata": {},
   "outputs": [
    {
     "name": "stdout",
     "output_type": "stream",
     "text": [
      " 몇 건을 출력할까요?: 10\n",
      "\n",
      "\n",
      "홍길동\n",
      "\n",
      "일지매\n",
      "\n",
      "전우치\n",
      "\n",
      "강감찬\n",
      "\n",
      "신사임당\n",
      "모든 행이 출력 완료되었습니다\n"
     ]
    }
   ],
   "source": [
    "# 예외처리 예시 - 파일의 내용 출력\n",
    "\n",
    "f = open(\"c:\\\\py_temp2\\\\예외처리연습.txt\")\n",
    "txt = f.readlines()\n",
    "txt\n",
    "\n",
    "no = int(input(\" 몇 건을 출력할까요?: \"))\n",
    "print(\"\\n\")\n",
    "\n",
    "for i in range(0,no) :\n",
    "    try :\n",
    "        print(txt[i])\n",
    "    except IndexError :\n",
    "        print(\"모든 행이 출력 완료되었습니다\")\n",
    "        break"
   ]
  },
  {
   "cell_type": "code",
   "execution_count": 29,
   "id": "0aaa139f",
   "metadata": {},
   "outputs": [
    {
     "data": {
      "text/plain": [
       "0     80\n",
       "1    강감찬\n",
       "2     40\n",
       "Name: score, dtype: object"
      ]
     },
     "execution_count": 29,
     "metadata": {},
     "output_type": "execute_result"
    }
   ],
   "source": [
    "# 예외처리 연습문제\n",
    "\n",
    "import pandas as pd\n",
    "\n",
    "data1 = pd.read_excel(\"c:\\\\py_temp2\\\\score.xlsx\",sheet_name='Sheet1' )\n",
    "data2 = data1['score']\n",
    "data2"
   ]
  },
  {
   "cell_type": "code",
   "execution_count": 30,
   "id": "1958d1b5",
   "metadata": {},
   "outputs": [
    {
     "ename": "TypeError",
     "evalue": "unsupported operand type(s) for +=: 'int' and 'str'",
     "output_type": "error",
     "traceback": [
      "\u001b[1;31m---------------------------------------------------------------------------\u001b[0m",
      "\u001b[1;31mTypeError\u001b[0m                                 Traceback (most recent call last)",
      "Input \u001b[1;32mIn [30]\u001b[0m, in \u001b[0;36m<cell line: 2>\u001b[1;34m()\u001b[0m\n\u001b[0;32m      1\u001b[0m data3 \u001b[38;5;241m=\u001b[39m \u001b[38;5;241m0\u001b[39m\n\u001b[0;32m      2\u001b[0m \u001b[38;5;28;01mfor\u001b[39;00m i \u001b[38;5;129;01min\u001b[39;00m data2 :\n\u001b[1;32m----> 3\u001b[0m     data3 \u001b[38;5;241m+\u001b[39m\u001b[38;5;241m=\u001b[39m i\n\u001b[0;32m      4\u001b[0m data3\n",
      "\u001b[1;31mTypeError\u001b[0m: unsupported operand type(s) for +=: 'int' and 'str'"
     ]
    }
   ],
   "source": [
    "data3 = 0\n",
    "for i in data2 :\n",
    "    data3 += i\n",
    "data3"
   ]
  },
  {
   "cell_type": "code",
   "execution_count": 31,
   "id": "3931b49c",
   "metadata": {},
   "outputs": [
    {
     "data": {
      "text/plain": [
       "120"
      ]
     },
     "execution_count": 31,
     "metadata": {},
     "output_type": "execute_result"
    }
   ],
   "source": [
    "data3 = 0\n",
    "for i in data2 :\n",
    "    try :\n",
    "        data3 += i\n",
    "    except TypeError :\n",
    "        continue\n",
    "        \n",
    "data3"
   ]
  }
 ],
 "metadata": {
  "kernelspec": {
   "display_name": "Python 3 (ipykernel)",
   "language": "python",
   "name": "python3"
  },
  "language_info": {
   "codemirror_mode": {
    "name": "ipython",
    "version": 3
   },
   "file_extension": ".py",
   "mimetype": "text/x-python",
   "name": "python",
   "nbconvert_exporter": "python",
   "pygments_lexer": "ipython3",
   "version": "3.9.12"
  }
 },
 "nbformat": 4,
 "nbformat_minor": 5
}
