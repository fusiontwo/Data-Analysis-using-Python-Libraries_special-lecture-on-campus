{
 "cells": [
  {
   "cell_type": "markdown",
   "id": "469111d8",
   "metadata": {},
   "source": [
    "## numpy 모듈\n",
    "- C언어로 구현된 파이썬 라이브러리로 속도가 빠름\n",
    "\n",
    "- 고차원으로 구성되어 있는 행렬의 수치연산을 위해 개발됨\n",
    "\n",
    "- 명령 프롬프트 창에서 pip install numpy로 설치해야 함"
   ]
  },
  {
   "cell_type": "code",
   "execution_count": 9,
   "id": "a9222341",
   "metadata": {},
   "outputs": [
    {
     "name": "stdout",
     "output_type": "stream",
     "text": [
      "[1 2 3 4 5]\n"
     ]
    },
    {
     "data": {
      "text/plain": [
       "(5,)"
      ]
     },
     "execution_count": 9,
     "metadata": {},
     "output_type": "execute_result"
    }
   ],
   "source": [
    "import numpy as np\n",
    "\n",
    "# numpy를 사용하기 위해 array 형태로 만들기\n",
    "data1 = [1,2,3,4,5]\n",
    "array1 = np.array(data1)\n",
    "print(array1)\n",
    "\n",
    "# array 의 크기와 형태 확인\n",
    "array1.shape"
   ]
  },
  {
   "cell_type": "code",
   "execution_count": 10,
   "id": "4f7c4c9e",
   "metadata": {},
   "outputs": [
    {
     "name": "stdout",
     "output_type": "stream",
     "text": [
      "[1.  2.  3.  4.  5.5]\n"
     ]
    },
    {
     "data": {
      "text/plain": [
       "(5,)"
      ]
     },
     "execution_count": 10,
     "metadata": {},
     "output_type": "execute_result"
    }
   ],
   "source": [
    "# numpy를 사용하기 위해 array 형태로 만들기\n",
    "data2 = [1, 2, 3, 4, 5.5]\n",
    "array2 = np.array(data2)\n",
    "print(array2) # 정수형 데이터도 실수형으로 바뀌었다.\n",
    "\n",
    "# array 의 크기와 형태 확인\n",
    "array2.shape"
   ]
  },
  {
   "cell_type": "code",
   "execution_count": 11,
   "id": "a8d30bcd",
   "metadata": {},
   "outputs": [
    {
     "name": "stdout",
     "output_type": "stream",
     "text": [
      "['1' '2' '3' '4' '새우깡']\n"
     ]
    },
    {
     "data": {
      "text/plain": [
       "(5,)"
      ]
     },
     "execution_count": 11,
     "metadata": {},
     "output_type": "execute_result"
    }
   ],
   "source": [
    "#numpy를 사용하기 위해 array 형태로 만들기\n",
    "data3 = [1, 2, 3, 4, '새우깡']\n",
    "array3 = np.array(data3)\n",
    "print(array3) # 정수형 데이터도 문자열로 바뀌었다.\n",
    "\n",
    "# array 의 크기와 형태 확인\n",
    "array3.shape"
   ]
  },
  {
   "cell_type": "code",
   "execution_count": 12,
   "id": "f287f586",
   "metadata": {},
   "outputs": [
    {
     "name": "stdout",
     "output_type": "stream",
     "text": [
      "[1 2 3 4 5]\n"
     ]
    }
   ],
   "source": [
    "# array() 함수안에 리스트 바로 사용하기\n",
    "array4 = np.array([1,2,3,4,5])\n",
    "print(array4)"
   ]
  },
  {
   "cell_type": "code",
   "execution_count": 13,
   "id": "7da6bb9b",
   "metadata": {},
   "outputs": [
    {
     "name": "stdout",
     "output_type": "stream",
     "text": [
      "array1: int32\n",
      "array2: float64\n",
      "array3: <U11\n",
      "array4: int32\n"
     ]
    }
   ],
   "source": [
    "# 데이터 타입 확인하기\n",
    "print('array1:',array1.dtype)\n",
    "print('array2:',array2.dtype)\n",
    "print('array3:',array3.dtype)\n",
    "print('array4:',array4.dtype)"
   ]
  },
  {
   "cell_type": "code",
   "execution_count": 14,
   "id": "0b671ba1",
   "metadata": {},
   "outputs": [
    {
     "name": "stdout",
     "output_type": "stream",
     "text": [
      "[[0. 0. 0. 0.]\n",
      " [0. 0. 0. 0.]\n",
      " [0. 0. 0. 0.]]\n"
     ]
    }
   ],
   "source": [
    "# 0으로 구성된 N차원 배열 생성 \n",
    "print(np.zeros((3,4))) #(행의 수, 열의 수)"
   ]
  },
  {
   "cell_type": "code",
   "execution_count": 15,
   "id": "70059dab",
   "metadata": {},
   "outputs": [
    {
     "name": "stdout",
     "output_type": "stream",
     "text": [
      "[[1 1 1 1]\n",
      " [1 1 1 1]\n",
      " [1 1 1 1]]\n"
     ]
    }
   ],
   "source": [
    "# 1로 구성된 N차원 배열 생성\n",
    "print(np.ones((3,4), dtype=np.int16))"
   ]
  },
  {
   "cell_type": "code",
   "execution_count": 16,
   "id": "71a4db49",
   "metadata": {},
   "outputs": [
    {
     "name": "stdout",
     "output_type": "stream",
     "text": [
      "[10 15 20 25]\n"
     ]
    }
   ],
   "source": [
    "# arange() 함수 - N만큼 연속적으로 차이나는 배열 생성\n",
    "print(np.arange(10,30,5))"
   ]
  },
  {
   "cell_type": "code",
   "execution_count": 17,
   "id": "09f65b6c",
   "metadata": {},
   "outputs": [
    {
     "name": "stdout",
     "output_type": "stream",
     "text": [
      "[ 0.  1.  2.  3.  4.  5.  6.  7.  8.  9. 10. 11. 12. 13. 14. 15. 16. 17.\n",
      " 18. 19. 20. 21. 22. 23. 24. 25. 26. 27. 28. 29. 30. 31. 32. 33. 34. 35.\n",
      " 36. 37. 38. 39. 40. 41. 42. 43. 44. 45. 46. 47. 48. 49. 50. 51. 52. 53.\n",
      " 54. 55. 56. 57. 58. 59. 60. 61. 62. 63. 64. 65. 66. 67. 68. 69. 70. 71.\n",
      " 72. 73. 74. 75. 76. 77. 78. 79. 80. 81. 82. 83. 84. 85. 86. 87. 88. 89.\n",
      " 90. 91. 92. 93. 94. 95. 96. 97. 98. 99.]\n"
     ]
    }
   ],
   "source": [
    "# linespace() 함수 - N등분하기\n",
    "x = np.linspace(0, 99, 100) # 0~99까지 100등분\n",
    "print(x)"
   ]
  },
  {
   "cell_type": "code",
   "execution_count": 18,
   "id": "83cf7562",
   "metadata": {},
   "outputs": [
    {
     "name": "stdout",
     "output_type": "stream",
     "text": [
      "[[1 2 3]\n",
      " [3 4 5]\n",
      " [5 6 7]]\n"
     ]
    },
    {
     "data": {
      "text/plain": [
       "(3, 3)"
      ]
     },
     "execution_count": 18,
     "metadata": {},
     "output_type": "execute_result"
    }
   ],
   "source": [
    "# 2차원의 array 생성하기\n",
    "array5 = np.array( [ [1,2,3],[3,4,5],[5,6,7] ])\n",
    "print(array5)\n",
    "\n",
    "array5.shape"
   ]
  },
  {
   "cell_type": "code",
   "execution_count": 19,
   "id": "d0b9057e",
   "metadata": {},
   "outputs": [
    {
     "name": "stdout",
     "output_type": "stream",
     "text": [
      "[[ 0  1  2]\n",
      " [ 3  4  5]\n",
      " [ 6  7  8]\n",
      " [ 9 10 11]]\n"
     ]
    }
   ],
   "source": [
    "# reshape() 함수를 사용하여 차원을 변경하기\n",
    "array6=np.arange(12).reshape(4,3)\n",
    "print(array6)"
   ]
  },
  {
   "cell_type": "code",
   "execution_count": 20,
   "id": "90e98dcb",
   "metadata": {},
   "outputs": [
    {
     "name": "stdout",
     "output_type": "stream",
     "text": [
      "[[ 0  1  2  3  4  5]\n",
      " [ 6  7  8  9 10 11]]\n"
     ]
    }
   ],
   "source": [
    "# reshape() 함수를 사용하여 차원을 변경하기\n",
    "array7=array6.reshape(2,6)\n",
    "print(array7)"
   ]
  },
  {
   "cell_type": "code",
   "execution_count": 21,
   "id": "7451f67d",
   "metadata": {},
   "outputs": [
    {
     "name": "stdout",
     "output_type": "stream",
     "text": [
      "[[ 0]\n",
      " [ 1]\n",
      " [ 2]\n",
      " [ 3]\n",
      " [ 4]\n",
      " [ 5]\n",
      " [ 6]\n",
      " [ 7]\n",
      " [ 8]\n",
      " [ 9]\n",
      " [10]\n",
      " [11]]\n"
     ]
    }
   ],
   "source": [
    "# reshape() 함수를 사용하여 차원을 변경하기\n",
    "array8 = array6.reshape(-1,1)\n",
    "print(array8)"
   ]
  },
  {
   "cell_type": "code",
   "execution_count": 22,
   "id": "8b734c61",
   "metadata": {},
   "outputs": [],
   "source": [
    "# 참고 : reshape() 함수는 원본 데이터를 복사하여 복사본의 형태를 바꾸고\n",
    "# resize() 함수는 원본의 데이터를 변경합니다."
   ]
  },
  {
   "cell_type": "code",
   "execution_count": 23,
   "id": "83a6f64c",
   "metadata": {},
   "outputs": [
    {
     "name": "stdout",
     "output_type": "stream",
     "text": [
      "[[1 2]\n",
      " [3 4]]\n",
      "[[5 6]\n",
      " [7 8]]\n",
      "\n",
      "-vstack: \n",
      " [[1 2]\n",
      " [3 4]\n",
      " [5 6]\n",
      " [7 8]]\n",
      "\n",
      "-hstack: \n",
      " [[1 2 5 6]\n",
      " [3 4 7 8]]\n"
     ]
    }
   ],
   "source": [
    "# 데이터 합치기 - vstack() / hstack()\n",
    "array1 = np.array([[1,2],[3,4]])\n",
    "print(array1)\n",
    "\n",
    "array2 = np.array([[5,6],[7,8]])\n",
    "print(array2)\n",
    "print()\n",
    "# vstack()\n",
    "print('-vstack:','\\n',np.vstack((array1,array2)))\n",
    "print()\n",
    "# hstack()\n",
    "print('-hstack:','\\n',np.hstack((array1,array2)))"
   ]
  },
  {
   "cell_type": "code",
   "execution_count": 24,
   "id": "5b5e28ec",
   "metadata": {},
   "outputs": [
    {
     "name": "stdout",
     "output_type": "stream",
     "text": [
      "['홍길동' '일지매' '전우치']\n",
      "['서울' '부산' '대전']\n",
      "\n",
      "[['홍길동' '서울']\n",
      " ['일지매' '부산']\n",
      " ['전우치' '대전']]\n"
     ]
    }
   ],
   "source": [
    "# 2개 이상의 리스트를 array 로 합치기\n",
    "import numpy as np\n",
    "name = np.array(['홍길동','일지매','전우치'])\n",
    "loc = np.array(['서울','부산','대전'])\n",
    "print(name)\n",
    "print(loc)\n",
    "print()\n",
    "\n",
    "all_data = np.column_stack( (name, loc))\n",
    "print(all_data)"
   ]
  },
  {
   "cell_type": "code",
   "execution_count": 25,
   "id": "a8e5fb87",
   "metadata": {},
   "outputs": [
    {
     "name": "stdout",
     "output_type": "stream",
     "text": [
      "[[1 2 3]\n",
      " [4 5 6]]\n",
      "\n",
      "\n",
      "[[10 20 30]\n",
      " [40 50 60]]\n"
     ]
    }
   ],
   "source": [
    "# array 산술연산하기\n",
    "# 예제 데이터 생성하기\n",
    "\n",
    "array1 = np.array( [ [1,2,3],[4,5,6] ] )\n",
    "print(array1)\n",
    "\n",
    "print(\"\\n\")\n",
    "\n",
    "array2 = np.array( [ [10,20,30] , [40,50,60] ])\n",
    "print(array2)"
   ]
  },
  {
   "cell_type": "markdown",
   "id": "c723e926",
   "metadata": {},
   "source": [
    "- 데이터 유형이 똑같은 배열은 +,-,*,/ 모두 가능"
   ]
  },
  {
   "cell_type": "code",
   "execution_count": 26,
   "id": "f9786c66",
   "metadata": {},
   "outputs": [
    {
     "data": {
      "text/plain": [
       "array([[11, 22, 33],\n",
       "       [44, 55, 66]])"
      ]
     },
     "execution_count": 26,
     "metadata": {},
     "output_type": "execute_result"
    }
   ],
   "source": [
    "# array 산술연산\n",
    "# 1. 덧셈\n",
    "\n",
    "array1 + array2"
   ]
  },
  {
   "cell_type": "code",
   "execution_count": 27,
   "id": "ea0ce367",
   "metadata": {},
   "outputs": [
    {
     "data": {
      "text/plain": [
       "array([[ 9, 18, 27],\n",
       "       [36, 45, 54]])"
      ]
     },
     "execution_count": 27,
     "metadata": {},
     "output_type": "execute_result"
    }
   ],
   "source": [
    "# array 산술연산\n",
    "# 2. 뺄셈\n",
    "\n",
    "array2 - array1"
   ]
  },
  {
   "cell_type": "code",
   "execution_count": 28,
   "id": "2048e3ce",
   "metadata": {},
   "outputs": [
    {
     "data": {
      "text/plain": [
       "array([[ 10,  40,  90],\n",
       "       [160, 250, 360]])"
      ]
     },
     "execution_count": 28,
     "metadata": {},
     "output_type": "execute_result"
    }
   ],
   "source": [
    "# array 산술연산\n",
    "# 3. 곱셈\n",
    "\n",
    "array1 * array2"
   ]
  },
  {
   "cell_type": "code",
   "execution_count": 29,
   "id": "dcae75f1",
   "metadata": {},
   "outputs": [
    {
     "data": {
      "text/plain": [
       "array([[10., 10., 10.],\n",
       "       [10., 10., 10.]])"
      ]
     },
     "execution_count": 29,
     "metadata": {},
     "output_type": "execute_result"
    }
   ],
   "source": [
    "# array 산술연산\n",
    "# 4. 나눗셈\n",
    "\n",
    "array2 / array1"
   ]
  },
  {
   "cell_type": "code",
   "execution_count": 30,
   "id": "86c78649",
   "metadata": {},
   "outputs": [
    {
     "name": "stdout",
     "output_type": "stream",
     "text": [
      "[[[2]]\n",
      "\n",
      " [[3]]\n",
      "\n",
      " [[4]]\n",
      "\n",
      " [[5]]]\n",
      "[[[8]\n",
      "  [5]\n",
      "  [4]]]\n"
     ]
    }
   ],
   "source": [
    "# 서로 다른 차원의 배열을 묶어서 연산하기- ix_() 함수 사용\n",
    "a = np.array([2,3,4,5])\n",
    "b = np.array([8,5,4])\n",
    "c = np.array([5,4,6,8,3])\n",
    "ax,bx,cx = np.ix_(a,b,c)\n",
    "print(ax)\n",
    "print(bx)"
   ]
  },
  {
   "cell_type": "code",
   "execution_count": 31,
   "id": "0fb3a57f",
   "metadata": {},
   "outputs": [
    {
     "name": "stdout",
     "output_type": "stream",
     "text": [
      "[[[10]\n",
      "  [ 7]\n",
      "  [ 6]]\n",
      "\n",
      " [[11]\n",
      "  [ 8]\n",
      "  [ 7]]\n",
      "\n",
      " [[12]\n",
      "  [ 9]\n",
      "  [ 8]]\n",
      "\n",
      " [[13]\n",
      "  [10]\n",
      "  [ 9]]]\n"
     ]
    }
   ],
   "source": [
    "# 서로 다른 차원의 배열을 묶어서 연산하기- ix_() 함수 사용\n",
    "print(ax + bx)"
   ]
  },
  {
   "cell_type": "code",
   "execution_count": 32,
   "id": "4cd93af0",
   "metadata": {},
   "outputs": [
    {
     "name": "stdout",
     "output_type": "stream",
     "text": [
      "전체값: [1 2 3 4 5]\n",
      "1번째값: 1\n",
      "3번째값: 3\n",
      "2-4번째값: [2 3 4]\n"
     ]
    }
   ],
   "source": [
    "# array 데이터 조회하기\n",
    "# 1차원 array 조회하기\n",
    "array1 = np.array([1,2,3,4,5])\n",
    "print('전체값:' , array1)\n",
    "print('1번째값:' , array1[0])\n",
    "print('3번째값:' , array1[2])\n",
    "print('2-4번째값:' , array1[1:4])"
   ]
  },
  {
   "cell_type": "code",
   "execution_count": 33,
   "id": "49ce2aa3",
   "metadata": {},
   "outputs": [
    {
     "name": "stdout",
     "output_type": "stream",
     "text": [
      "[[1 2 3]\n",
      " [4 5 6]\n",
      " [7 8 9]]\n",
      "\n",
      "\n",
      "9\n"
     ]
    }
   ],
   "source": [
    "# array 데이터 조회하기\n",
    "# 2차원 array 조회하기\n",
    "array2 = np.array([ [1,2,3],[4,5,6],[7,8,9] ])\n",
    "print(array2)\n",
    "print('\\n')\n",
    "print(array2[2,2])"
   ]
  },
  {
   "cell_type": "code",
   "execution_count": 34,
   "id": "869efd32",
   "metadata": {},
   "outputs": [
    {
     "data": {
      "text/plain": [
       "array([[-0.09602557,  0.67668049, -1.66174999],\n",
       "       [-2.78865119,  2.92455237, -0.87973131],\n",
       "       [ 0.16392176, -0.561678  , -1.24414834]])"
      ]
     },
     "execution_count": 34,
     "metadata": {},
     "output_type": "execute_result"
    }
   ],
   "source": [
    "# 예제 데이터 만들기\n",
    "array1 = np.random.randn(3,3)\n",
    "array1"
   ]
  },
  {
   "cell_type": "code",
   "execution_count": 35,
   "id": "bd5bb4d3",
   "metadata": {},
   "outputs": [
    {
     "data": {
      "text/plain": [
       "array([[0.09602557, 0.67668049, 1.66174999],\n",
       "       [2.78865119, 2.92455237, 0.87973131],\n",
       "       [0.16392176, 0.561678  , 1.24414834]])"
      ]
     },
     "execution_count": 35,
     "metadata": {},
     "output_type": "execute_result"
    }
   ],
   "source": [
    "# abs() 함수 - 절대값 계산하기\n",
    "np.abs(array1)"
   ]
  },
  {
   "cell_type": "code",
   "execution_count": 36,
   "id": "5129eda5",
   "metadata": {},
   "outputs": [
    {
     "data": {
      "text/plain": [
       "array([[0.00922091, 0.45789649, 2.76141304],\n",
       "       [7.77657544, 8.55300656, 0.77392717],\n",
       "       [0.02687034, 0.31548217, 1.54790509]])"
      ]
     },
     "execution_count": 36,
     "metadata": {},
     "output_type": "execute_result"
    }
   ],
   "source": [
    "# square() 함수 - 제곱값 계산하기\n",
    "np.square(array1)"
   ]
  },
  {
   "cell_type": "code",
   "execution_count": 37,
   "id": "e6d58f1f",
   "metadata": {},
   "outputs": [
    {
     "data": {
      "text/plain": [
       "array([[-0.,  1., -1.],\n",
       "       [-2.,  3., -0.],\n",
       "       [ 1., -0., -1.]])"
      ]
     },
     "execution_count": 37,
     "metadata": {},
     "output_type": "execute_result"
    }
   ],
   "source": [
    "# ceil() 함수 - 주어진 값보다 큰 가장 가까운 정수 찾기\n",
    "np.ceil(array1)"
   ]
  },
  {
   "cell_type": "code",
   "execution_count": 38,
   "id": "1d117b71",
   "metadata": {},
   "outputs": [
    {
     "data": {
      "text/plain": [
       "array([[-1.,  0., -2.],\n",
       "       [-3.,  2., -1.],\n",
       "       [ 0., -1., -2.]])"
      ]
     },
     "execution_count": 38,
     "metadata": {},
     "output_type": "execute_result"
    }
   ],
   "source": [
    "# floor() 함수 - 주어진 값보다 작은 가장 가까운 정수 찾기\n",
    "np.floor(array1)"
   ]
  },
  {
   "cell_type": "code",
   "execution_count": 39,
   "id": "0327bbd1",
   "metadata": {},
   "outputs": [
    {
     "data": {
      "text/plain": [
       "25"
      ]
     },
     "execution_count": 39,
     "metadata": {},
     "output_type": "execute_result"
    }
   ],
   "source": [
    "# sum() 함수 - 합계 구하기\n",
    "sum_ex = np.array([1,3,5,7,9])\n",
    "np.sum(sum_ex)"
   ]
  },
  {
   "cell_type": "code",
   "execution_count": 40,
   "id": "1970e5a9",
   "metadata": {},
   "outputs": [
    {
     "data": {
      "text/plain": [
       "array([ 1,  4,  9, 16, 25])"
      ]
     },
     "execution_count": 40,
     "metadata": {},
     "output_type": "execute_result"
    }
   ],
   "source": [
    "# cumsum() 함수 - 누적합계 구하기\n",
    "np.cumsum(sum_ex)"
   ]
  },
  {
   "cell_type": "code",
   "execution_count": 41,
   "id": "34c68d2c",
   "metadata": {},
   "outputs": [
    {
     "data": {
      "text/plain": [
       "array([[False, False, False],\n",
       "       [False, False, False],\n",
       "       [False, False, False]])"
      ]
     },
     "execution_count": 41,
     "metadata": {},
     "output_type": "execute_result"
    }
   ],
   "source": [
    "# isnan() 함수 - 주어진 값의 NaN 여부를 찾는 함수(NaN은 잘못된 데이터로, 쓸 수 없는 데이터이다.)\n",
    "\n",
    "np.isnan(array1)"
   ]
  },
  {
   "cell_type": "code",
   "execution_count": 42,
   "id": "d030b5c7",
   "metadata": {},
   "outputs": [
    {
     "data": {
      "text/plain": [
       "array([[False, False, False],\n",
       "       [False, False, False],\n",
       "       [False, False, False]])"
      ]
     },
     "execution_count": 42,
     "metadata": {},
     "output_type": "execute_result"
    }
   ],
   "source": [
    "# isinf() 함수 - 주어진 값의 무한대(inf) 여부를 찾는 함수\n",
    "np.isinf(array1)"
   ]
  }
 ],
 "metadata": {
  "kernelspec": {
   "display_name": "Python 3 (ipykernel)",
   "language": "python",
   "name": "python3"
  },
  "language_info": {
   "codemirror_mode": {
    "name": "ipython",
    "version": 3
   },
   "file_extension": ".py",
   "mimetype": "text/x-python",
   "name": "python",
   "nbconvert_exporter": "python",
   "pygments_lexer": "ipython3",
   "version": "3.9.12"
  }
 },
 "nbformat": 4,
 "nbformat_minor": 5
}
