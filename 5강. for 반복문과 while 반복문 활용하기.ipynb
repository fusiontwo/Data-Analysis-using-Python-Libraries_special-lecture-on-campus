{
 "cells": [
  {
   "cell_type": "markdown",
   "id": "9fc79357",
   "metadata": {},
   "source": [
    "#### for 반복문과 while 반복문의 차이\n",
    "- for 반복문 : 반복할 횟수를 지정하여 반복 작업을 수행할 때 사용\n",
    "\n",
    "- while 반복문 : 반복할 조건을 지정하여 반복 작업을 수행할 때 사용"
   ]
  },
  {
   "cell_type": "code",
   "execution_count": 1,
   "id": "1d037aa8",
   "metadata": {},
   "outputs": [
    {
     "name": "stdout",
     "output_type": "stream",
     "text": [
      "1\n",
      "2\n",
      "3\n"
     ]
    }
   ],
   "source": [
    "# 예제 9\n",
    "\n",
    "for i in (1, 2, 3) :\n",
    "    print(i)"
   ]
  },
  {
   "cell_type": "code",
   "execution_count": 2,
   "id": "19ceac76",
   "metadata": {},
   "outputs": [
    {
     "name": "stdout",
     "output_type": "stream",
     "text": [
      "하나\n",
      "둘\n",
      "셋\n"
     ]
    }
   ],
   "source": [
    "# 예제 10\n",
    "\n",
    "data = [\"하나\", \"둘\", \"셋\"]\n",
    "for i in data :\n",
    "    print(i)"
   ]
  },
  {
   "cell_type": "code",
   "execution_count": 3,
   "id": "7e7a0cfd",
   "metadata": {},
   "outputs": [
    {
     "name": "stdout",
     "output_type": "stream",
     "text": [
      "김구 님은 대한민국의 위대한 위인이고 자랑이십니다~!\n",
      "유관순 님은 대한민국의 위대한 위인이고 자랑이십니다~!\n",
      "이순신 님은 대한민국의 위대한 위인이고 자랑이십니다~!\n"
     ]
    }
   ],
   "source": [
    "# 예제 11\n",
    "\n",
    "data = [\"김구\",\"유관순\",\"이순신\"]\n",
    "for i in data :\n",
    "    print(\"%s 님은 대한민국의 위대한 위인이고 자랑이십니다~!\" % i)"
   ]
  },
  {
   "cell_type": "code",
   "execution_count": 4,
   "id": "102cc797",
   "metadata": {},
   "outputs": [
    {
     "name": "stdout",
     "output_type": "stream",
     "text": [
      "밥 1 그릇 주세요~\n",
      "밥 2 그릇 주세요~\n",
      "밥 3 그릇 주세요~\n",
      "밥 4 그릇 주세요~\n"
     ]
    }
   ],
   "source": [
    "# 예제 12\n",
    "\n",
    "for i in range(1, 5) :\n",
    "    print(\"밥 %s 그릇 주세요~\" %i)"
   ]
  },
  {
   "cell_type": "code",
   "execution_count": 5,
   "id": "4ff4947c",
   "metadata": {},
   "outputs": [
    {
     "name": "stdout",
     "output_type": "stream",
     "text": [
      "출력을 원하시는 단을 입력하세요: 3\n",
      "3  X  1 = 3\n",
      "3  X  2 = 6\n",
      "3  X  3 = 9\n",
      "3  X  4 = 12\n",
      "3  X  5 = 15\n",
      "3  X  6 = 18\n",
      "3  X  7 = 21\n",
      "3  X  8 = 24\n",
      "3  X  9 = 27\n"
     ]
    }
   ],
   "source": [
    "# for 반복문 예시\n",
    "# 숫자 1개를 입력받아서 해당 숫자의 단에 해당되는 구구단 출력하기\n",
    "\n",
    "no = int(input('출력을 원하시는 단을 입력하세요: '))\n",
    "\n",
    "for i in range(1,10) :\n",
    "    print(no, ' X ',i,'=', no*i)"
   ]
  },
  {
   "cell_type": "code",
   "execution_count": 6,
   "id": "ccbdd659",
   "metadata": {},
   "outputs": [
    {
     "name": "stdout",
     "output_type": "stream",
     "text": [
      "숫자를 입력하세요:10\n",
      "2\n",
      "4\n",
      "6\n",
      "8\n",
      "10\n"
     ]
    }
   ],
   "source": [
    "# for 반복문 연습문제\n",
    "# 숫자 1개를 입력받아서 1부터 해당 숫자까지의 짝수만 출력하세요\n",
    "\n",
    "no = int(input('숫자를 입력하세요:'))\n",
    "for i in range(1,no+1) :\n",
    "    if i%2==0 :\n",
    "        print(i)"
   ]
  },
  {
   "cell_type": "code",
   "execution_count": 7,
   "id": "ec5dc056",
   "metadata": {},
   "outputs": [
    {
     "name": "stdout",
     "output_type": "stream",
     "text": [
      "숫자를 입력하세요:10\n",
      "1\n",
      "3\n",
      "5\n",
      "7\n",
      "9\n"
     ]
    }
   ],
   "source": [
    "# for 반복문 예시\n",
    "# 숫자 1개를 입력받아서 1부터 해당 숫자까지의 홀수만 출력하세요\n",
    "\n",
    "no = int(input('숫자를 입력하세요:'))\n",
    "for i in range(1,no+1) :\n",
    "    if i%2!=0 :\n",
    "        print(i)"
   ]
  },
  {
   "cell_type": "code",
   "execution_count": 10,
   "id": "6902ca85",
   "metadata": {},
   "outputs": [
    {
     "name": "stdout",
     "output_type": "stream",
     "text": [
      "\n",
      "\n",
      "1 페이지의 1 번 글입니다^^ \n",
      "1 페이지의 2 번 글입니다^^ \n",
      "1 페이지의 3 번 글입니다^^ \n",
      "1 페이지의 4 번 글입니다^^ \n",
      "1 페이지의 5 번 글입니다^^ \n",
      "\n",
      "\n",
      "2 페이지의 1 번 글입니다^^ \n",
      "2 페이지의 2 번 글입니다^^ \n",
      "2 페이지의 3 번 글입니다^^ \n",
      "2 페이지의 4 번 글입니다^^ \n",
      "2 페이지의 5 번 글입니다^^ \n",
      "\n",
      "\n",
      "3 페이지의 1 번 글입니다^^ \n",
      "3 페이지의 2 번 글입니다^^ \n",
      "3 페이지의 3 번 글입니다^^ \n",
      "3 페이지의 4 번 글입니다^^ \n",
      "3 페이지의 5 번 글입니다^^ \n"
     ]
    }
   ],
   "source": [
    "# for 반복문 예시\n",
    "\n",
    "page_no = [1,2,3]\n",
    "text_no = [1,2,3,4,5]\n",
    "\n",
    "for a in page_no :\n",
    "    print(\"\\n\") # page_no 마다 줄 띄어쓰기\n",
    "    for b in text_no :\n",
    "        print(a,'페이지의',b,'번 글입니다^^ ')"
   ]
  },
  {
   "cell_type": "code",
   "execution_count": 11,
   "id": "89b7d80c",
   "metadata": {},
   "outputs": [
    {
     "name": "stdout",
     "output_type": "stream",
     "text": [
      "1\n",
      "3\n",
      "5\n",
      "7\n"
     ]
    }
   ],
   "source": [
    "# 예제 13\n",
    "\n",
    "no1 = 1\n",
    "while no1 < 9 :\n",
    "    print(no1)\n",
    "    no1 += 2"
   ]
  },
  {
   "cell_type": "code",
   "execution_count": 12,
   "id": "d242fabd",
   "metadata": {},
   "outputs": [
    {
     "name": "stdout",
     "output_type": "stream",
     "text": [
      "2\n",
      "4\n",
      "6\n",
      "8\n",
      "10\n"
     ]
    }
   ],
   "source": [
    "# 예제 14\n",
    "\n",
    "no1 = 0\n",
    "while no1 < 9:\n",
    "    no1 += 2\n",
    "    print(no1)"
   ]
  },
  {
   "cell_type": "code",
   "execution_count": 14,
   "id": "e295fb79",
   "metadata": {},
   "outputs": [
    {
     "name": "stdout",
     "output_type": "stream",
     "text": [
      "출력을 원하는 단 수를 입력하세요: 5\n",
      "5 X 1 = 5\n",
      "5 X 2 = 10\n",
      "5 X 3 = 15\n",
      "5 X 4 = 20\n",
      "5 X 5 = 25\n",
      "5 X 6 = 30\n",
      "5 X 7 = 35\n",
      "5 X 8 = 40\n",
      "5 X 9 = 45\n"
     ]
    }
   ],
   "source": [
    "# While 문으로 구구단 출력하기\n",
    "\n",
    "dan = int(input('출력을 원하는 단 수를 입력하세요: '))\n",
    "no = 1\n",
    "while no < 10 :\n",
    "    print(dan,'X',no,'=',dan*no)\n",
    "    no += 1"
   ]
  },
  {
   "cell_type": "markdown",
   "id": "3831e284",
   "metadata": {},
   "source": [
    "#### break 문과 continue 문의 의미\n",
    "- break 문 : 반복 수행 도중 특정 조건이 참이면 반복을 멈추게 함\n",
    "\n",
    "- continue 문 : 반복 수행 도중 특정 조건이 참이면 건너뛰고 계속 함"
   ]
  },
  {
   "cell_type": "code",
   "execution_count": 16,
   "id": "be1e12c7",
   "metadata": {},
   "outputs": [
    {
     "name": "stdout",
     "output_type": "stream",
     "text": [
      "새우깡 완전 맛있어요~!\n",
      "감자깡 완전 맛있어요~!\n"
     ]
    }
   ],
   "source": [
    "# 예제 15\n",
    "\n",
    "snack = [\"새우깡\", \"감자깡\", \"고구마깡\", \"맛동산\", \"짱구\"]\n",
    "for i in snack :\n",
    "    if i == \"고구마깡\" : \n",
    "        break             # i가 고구마깡이면 반복을 멈춤\n",
    "    print(i,\"완전 맛있어요~!\")"
   ]
  },
  {
   "cell_type": "code",
   "execution_count": 19,
   "id": "b9adfbe6",
   "metadata": {},
   "outputs": [
    {
     "name": "stdout",
     "output_type": "stream",
     "text": [
      "새우깡 완전 맛있어요~!\n",
      "감자깡 완전 맛있어요~!\n",
      "맛동산 완전 맛있어요~!\n",
      "짱구 완전 맛있어요~!\n"
     ]
    }
   ],
   "source": [
    "# 예제 16\n",
    "\n",
    "snack = [\"새우깡\", \"감자깡\", \"고구마깡\", \"맛동산\", \"짱구\"]\n",
    "for i in snack :\n",
    "    if i == \"고구마깡\" :\n",
    "        continue         # i가 고구마깡이면 건너뛰고 반복을 계속 함\n",
    "    print(i,\"완전 맛있어요~!\")"
   ]
  }
 ],
 "metadata": {
  "kernelspec": {
   "display_name": "Python 3 (ipykernel)",
   "language": "python",
   "name": "python3"
  },
  "language_info": {
   "codemirror_mode": {
    "name": "ipython",
    "version": 3
   },
   "file_extension": ".py",
   "mimetype": "text/x-python",
   "name": "python",
   "nbconvert_exporter": "python",
   "pygments_lexer": "ipython3",
   "version": "3.9.12"
  }
 },
 "nbformat": 4,
 "nbformat_minor": 5
}
