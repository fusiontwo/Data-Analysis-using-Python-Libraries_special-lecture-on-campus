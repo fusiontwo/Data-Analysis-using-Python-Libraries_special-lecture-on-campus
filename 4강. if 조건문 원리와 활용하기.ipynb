{
 "cells": [
  {
   "cell_type": "code",
   "execution_count": 1,
   "id": "9123d720",
   "metadata": {},
   "outputs": [
    {
     "name": "stdout",
     "output_type": "stream",
     "text": [
      "조회할 사람의 이름을 입력하세요:홍길동\n",
      "홍길동입니다\n",
      "남자입니다\n",
      "활빈당 총수입니다\n"
     ]
    }
   ],
   "source": [
    "# 조건문과 반복문 활용하기\n",
    "# 예제 1\n",
    "\n",
    "name = input('조회할 사람의 이름을 입력하세요:')\n",
    "\n",
    "if name == '홍길동' :\n",
    "    print('홍길동입니다')\n",
    "    print('남자입니다')\n",
    "    print('활빈당 총수입니다')"
   ]
  },
  {
   "cell_type": "code",
   "execution_count": 1,
   "id": "91c5b80f",
   "metadata": {},
   "outputs": [
    {
     "ename": "IndentationError",
     "evalue": "unexpected indent (1565800819.py, line 8)",
     "output_type": "error",
     "traceback": [
      "\u001b[1;36m  Input \u001b[1;32mIn [1]\u001b[1;36m\u001b[0m\n\u001b[1;33m    print(\"활빈당 총수입니다\")\u001b[0m\n\u001b[1;37m    ^\u001b[0m\n\u001b[1;31mIndentationError\u001b[0m\u001b[1;31m:\u001b[0m unexpected indent\n"
     ]
    }
   ],
   "source": [
    "# 예제 2\n",
    "\n",
    "name = input('조회할 사람의 이름을 입력하세요:')\n",
    "\n",
    "if name == '홍길동' :\n",
    "    print(\"홍길동 입니다\")\n",
    "    print(\"남자입니다\")\n",
    "        print(\"활빈당 총수입니다\")"
   ]
  },
  {
   "cell_type": "code",
   "execution_count": 1,
   "id": "64f20b7d",
   "metadata": {},
   "outputs": [
    {
     "name": "stdout",
     "output_type": "stream",
     "text": [
      "조회할 사람의 이름을 입력하세요: 일지매\n",
      "홍길동이 아니고 일지매 입니다\n",
      "남자인가요?\n",
      "여자인가요?\n"
     ]
    }
   ],
   "source": [
    "# 예제 3\n",
    "name = input('조회할 사람의 이름을 입력하세요: ')\n",
    "\n",
    "if name == '홍길동' :\n",
    "    print(\"홍길동 입니다\")\n",
    "    print(\"남자입니다\")\n",
    "    print(\"활빈당 총수입니다\") \n",
    "else :\n",
    "    print(\"홍길동이 아니고 %s 입니다\" %name)\n",
    "    print(\"남자인가요?\")\n",
    "    print(\"여자인가요?\") "
   ]
  },
  {
   "cell_type": "code",
   "execution_count": 2,
   "id": "6e3adb2e",
   "metadata": {},
   "outputs": [
    {
     "name": "stdout",
     "output_type": "stream",
     "text": [
      "사과,감,자두 중에 하나를 입력하세요:자두\n",
      "자두입니다\n"
     ]
    }
   ],
   "source": [
    "# if 조건문 유형 3\n",
    "fruit = input('사과,감,자두 중에 하나를 입력하세요:')\n",
    "\n",
    "if fruit == '사과' :\n",
    "    print('사과입니다')\n",
    "elif fruit == '감' :\n",
    "    print('감입니다')\n",
    "elif fruit == '자두' :\n",
    "    print('자두입니다')\n",
    "else :\n",
    "    print('사과,감,자두 중에서 입력하세요')"
   ]
  },
  {
   "cell_type": "code",
   "execution_count": 3,
   "id": "f08ca5b8",
   "metadata": {},
   "outputs": [
    {
     "name": "stdout",
     "output_type": "stream",
     "text": [
      "점수를 입력하세요: 99\n",
      "A 등급입니다!\n"
     ]
    }
   ],
   "source": [
    "# 예제4\n",
    "\n",
    "jumsu = int(input(\"점수를 입력하세요: \"))\n",
    "\n",
    "if jumsu >= 91 and jumsu <= 100 :\n",
    "    print(\"A 등급입니다!\")\n",
    "elif jumsu >= 81 and jumsu <= 90 :\n",
    "    print(\"B 등급입니다!\")\n",
    "elif jumsu >= 71 and jumsu <= 80 :\n",
    "    print(\"C 등급입니다!\")\n",
    "else :\n",
    "    print(\"D 등급입니다!\")"
   ]
  },
  {
   "cell_type": "code",
   "execution_count": 6,
   "id": "92f6c1a1",
   "metadata": {},
   "outputs": [
    {
     "name": "stdout",
     "output_type": "stream",
     "text": [
      "Y 또는 y 를 입력하세요: y\n",
      "입력하신 문자는 y 입니다\n"
     ]
    }
   ],
   "source": [
    "# 예제 5-1\n",
    "answer = input(\"Y 또는 y 를 입력하세요: \")\n",
    "if answer == 'Y' or answer == 'y' :\n",
    "    print(\"입력하신 문자는 %s 입니다\" %answer)\n",
    "else :\n",
    "    print(\"Y 또는 y 를 입력하세요\")"
   ]
  },
  {
   "cell_type": "code",
   "execution_count": 5,
   "id": "36b51683",
   "metadata": {},
   "outputs": [
    {
     "name": "stdout",
     "output_type": "stream",
     "text": [
      "Y 또는 y 를 입력하세요: Y\n",
      "입력하신 문자는 Y 입니다\n"
     ]
    }
   ],
   "source": [
    "# 예제 5-2\n",
    "answer = input(\"Y 또는 y 를 입력하세요: \")\n",
    "if answer == 'Y' or answer == 'y' :\n",
    "    print(\"입력하신 문자는 %s 입니다\" %answer)\n",
    "else :\n",
    "    print(\"Y 또는 y를 입력하세요\")"
   ]
  },
  {
   "cell_type": "code",
   "execution_count": 7,
   "id": "9176cd4e",
   "metadata": {},
   "outputs": [
    {
     "name": "stdout",
     "output_type": "stream",
     "text": [
      "Y 또는 y 를 입력하세요: N\n",
      "Y 또는 y 를 입력하세요\n"
     ]
    }
   ],
   "source": [
    "# 예제 6\n",
    "answer = input(\"Y 또는 y 를 입력하세요: \")\n",
    "if answer == 'Y' or answer == 'y' :\n",
    "    print(\"입력하신 문자는 %s 입니다\" %answer)\n",
    "else :\n",
    "    print(\"Y 또는 y 를 입력하세요\")"
   ]
  },
  {
   "cell_type": "code",
   "execution_count": 8,
   "id": "52d590c0",
   "metadata": {},
   "outputs": [
    {
     "name": "stdout",
     "output_type": "stream",
     "text": [
      "Y 또는 y 를 입력하세요: y\n",
      "Y 또는 y 를 입력하셨군요~\n"
     ]
    }
   ],
   "source": [
    "# 예제 7\n",
    "answer = input(\"Y 또는 y 를 입력하세요: \")\n",
    "if answer != 'Y' and answer != 'y' :\n",
    "    print(\"입력하신 문자는 %s 입니다\" %answer)\n",
    "else :\n",
    "    print(\"Y 또는 y 를 입력하셨군요~\")"
   ]
  },
  {
   "cell_type": "code",
   "execution_count": 11,
   "id": "e6199857",
   "metadata": {},
   "outputs": [
    {
     "name": "stdout",
     "output_type": "stream",
     "text": [
      "숫자를 입력하세요:9\n",
      "81\n"
     ]
    }
   ],
   "source": [
    "# if 문 예제-3의 배수이면 제곱으로, 아니면 0 출력하기\n",
    "no1 = int(input('숫자를 입력하세요:'))\n",
    "if no1%3 == 0:\n",
    "    print(no1**2)\n",
    "else : print(no1*0)"
   ]
  },
  {
   "cell_type": "code",
   "execution_count": 16,
   "id": "46e71ca3",
   "metadata": {},
   "outputs": [
    {
     "name": "stdout",
     "output_type": "stream",
     "text": [
      "사과, 감, 귤 중에 어떤 과일을 좋아하세요?: 감\n",
      "Very Good~~\n"
     ]
    }
   ],
   "source": [
    "# if 문 예제\n",
    "fruits = input('사과, 감, 귤 중에 어떤 과일을 좋아하세요?: ')\n",
    "if fruits == '사과' :\n",
    "    print(\"Good~~\")\n",
    "elif fruits == '감' :\n",
    "    print(\"Very Good~~\")\n",
    "elif fruits == '귤' :\n",
    "    print(\"So so....\") \n",
    "else :\n",
    "    print(\"사과나 감, 귤 중 하나를 입력하세요~~\")"
   ]
  },
  {
   "cell_type": "code",
   "execution_count": 20,
   "id": "5337a9ed",
   "metadata": {},
   "outputs": [
    {
     "name": "stdout",
     "output_type": "stream",
     "text": [
      "사과, 감, 귤, 복숭아 중에 어떤 과일을 좋아하세요?: 자몽\n",
      "사과나 감, 귤, 복숭아 중 하나를 입력하세요~~\n"
     ]
    }
   ],
   "source": [
    "# if 문 예제\n",
    "fruits = input('사과, 감, 귤, 복숭아 중에 어떤 과일을 좋아하세요?: ')\n",
    "if fruits == '사과' or fruits == '감' :\n",
    "    print(\"Very Good~~\")\n",
    "elif fruits == '귤' or fruits == '복숭아' :\n",
    "    print(\"Good~\")\n",
    "else :\n",
    "    print(\"사과나 감, 귤, 복숭아 중 하나를 입력하세요~~\")"
   ]
  },
  {
   "cell_type": "code",
   "execution_count": 24,
   "id": "db0a8beb",
   "metadata": {},
   "outputs": [
    {
     "name": "stdout",
     "output_type": "stream",
     "text": [
      "\n",
      "1. 짜장면 - 5,000원     2. 짬뽕 - 6,000원\n",
      "3. 군만두 - 8,000원     4. 탕수육 - 10,000원\n",
      "\n",
      "1. 위 메뉴 중 주문할 메뉴의 번호를 쓰세요:  2\n",
      "2. 위 메뉴의 주문 수량을 쓰세요: 8\n",
      "\n",
      "\n",
      "주문하신 메뉴는 짬뽕, 주문 수량은 8 그릇, 주문금액은 48000 입니다\n"
     ]
    }
   ],
   "source": [
    "# if 문 예제\n",
    "menu = int(input('''\n",
    "1. 짜장면 - 5,000원     2. 짬뽕 - 6,000원\n",
    "3. 군만두 - 8,000원     4. 탕수육 - 10,000원\n",
    "\n",
    "1. 위 메뉴 중 주문할 메뉴의 번호를 쓰세요:  '''))\n",
    "\n",
    "qty = int(input(\"2. 위 메뉴의 주문 수량을 쓰세요: \"))\n",
    "print(\"\\n\")\n",
    "\n",
    "if (menu == 1):\n",
    "    print( '주문하신 메뉴는 짜장면, 주문 수량은 %s 그릇, 주문금액은 %s 입니다' %(qty, 5000*qty))\n",
    "elif (menu == 2):\n",
    "    print( '주문하신 메뉴는 짬뽕, 주문 수량은 %s 그릇, 주문금액은 %s 입니다' %(qty, 6000*qty))\n",
    "elif (menu == 3):\n",
    "    print( '주문하신 메뉴는 군만두, 주문 수량은 %s 그릇, 주문금액은 %s 입니다' %(qty, 8000*qty))\n",
    "elif (menu == 4):\n",
    "    print( '주문하신 메뉴는 탕수육, 주문 수량은 %s 그릇, 주문금액은 %s 입니다.' %(qty, 10000*qty))\n",
    "else :\n",
    "    print(\"메뉴선택을 잘못하셨습니다\")"
   ]
  },
  {
   "cell_type": "code",
   "execution_count": null,
   "id": "6d7d684c",
   "metadata": {},
   "outputs": [],
   "source": []
  }
 ],
 "metadata": {
  "kernelspec": {
   "display_name": "Python 3 (ipykernel)",
   "language": "python",
   "name": "python3"
  },
  "language_info": {
   "codemirror_mode": {
    "name": "ipython",
    "version": 3
   },
   "file_extension": ".py",
   "mimetype": "text/x-python",
   "name": "python",
   "nbconvert_exporter": "python",
   "pygments_lexer": "ipython3",
   "version": "3.9.12"
  }
 },
 "nbformat": 4,
 "nbformat_minor": 5
}
