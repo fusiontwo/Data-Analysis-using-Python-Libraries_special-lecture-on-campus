{
 "cells": [
  {
   "cell_type": "markdown",
   "id": "73f1d82b",
   "metadata": {},
   "source": [
    "### 사용자 정의 함수 문법"
   ]
  },
  {
   "cell_type": "code",
   "execution_count": 7,
   "id": "a1475b78",
   "metadata": {},
   "outputs": [
    {
     "name": "stdout",
     "output_type": "stream",
     "text": [
      "\n",
      "def 함수이름(인수):\n",
      "    함수가 실행되면 실행할 문장1\n",
      "    함수가 실행되면 실행할 문장2\n",
      "    ...........\n",
      "    return 출력할 결과값\n"
     ]
    }
   ],
   "source": [
    "print('''\n",
    "def 함수이름(인수):\n",
    "    함수가 실행되면 실행할 문장1\n",
    "    함수가 실행되면 실행할 문장2\n",
    "    ...........\n",
    "    return 출력할 결과값''')"
   ]
  },
  {
   "cell_type": "code",
   "execution_count": 9,
   "id": "ee2c3e53",
   "metadata": {},
   "outputs": [
    {
     "name": "stdout",
     "output_type": "stream",
     "text": [
      "3 과 4 의 더한 값은 7 입니다\n"
     ]
    }
   ],
   "source": [
    "# 예제 1\n",
    "\n",
    "def p(x,y) :\n",
    "    result = print('%s 과 %s 의 더한 값은 %s 입니다' %(x,y,x+y))\n",
    "    return result\n",
    "\n",
    "p(3,4)"
   ]
  },
  {
   "cell_type": "code",
   "execution_count": 11,
   "id": "ff53bcef",
   "metadata": {},
   "outputs": [
    {
     "name": "stdout",
     "output_type": "stream",
     "text": [
      "입력하신 숫자의 합은 9 입니다\n",
      "입력하신 숫자의 합은 20 입니다\n"
     ]
    }
   ],
   "source": [
    "# 예제 2\n",
    "\n",
    "def p(*x) : # '*x'의 의미: 사용자가 입력할 데이터 개수가 정해지지 않았을 때 컴퓨터가 자동으로 카운트\n",
    "    hap = 0\n",
    "    for i in x :\n",
    "        hap += i\n",
    "    return('입력하신 숫자의 합은 %s 입니다' %hap)\n",
    "\n",
    "print( p(1,3,5) )\n",
    "print( p(2,4,6,8) )"
   ]
  },
  {
   "cell_type": "code",
   "execution_count": 12,
   "id": "ae96615e",
   "metadata": {},
   "outputs": [
    {
     "name": "stdout",
     "output_type": "stream",
     "text": [
      "4\n"
     ]
    }
   ],
   "source": [
    "# 사용자 정의 함수 예제\n",
    "# 두 숫자를 입력 받아서 큰 수에서 작은 수 뺀 결과 값 출력하기\n",
    "def data1(a,b) :\n",
    "    if a > b :\n",
    "        print(a-b)\n",
    "    else :\n",
    "        print(b-a)\n",
    "        \n",
    "data1(6,2)"
   ]
  },
  {
   "cell_type": "code",
   "execution_count": 17,
   "id": "ae70c910",
   "metadata": {},
   "outputs": [
    {
     "data": {
      "text/plain": [
       "9"
      ]
     },
     "execution_count": 17,
     "metadata": {},
     "output_type": "execute_result"
    }
   ],
   "source": [
    "# 사용자 정의함수 예시\n",
    "# 여러개의 숫자를 입력 받아서 가장 큰 값 출력하기\n",
    "def maxprint( *a ) :\n",
    "    max = 0\n",
    "    for i in a :\n",
    "        if i > max :\n",
    "            max = i\n",
    "    return max     # 들여쓰기 주의\n",
    "    \n",
    "maxprint(3,2,5,9,4)"
   ]
  },
  {
   "cell_type": "code",
   "execution_count": 18,
   "id": "0c6963b3",
   "metadata": {},
   "outputs": [
    {
     "data": {
      "text/plain": [
       "6"
      ]
     },
     "execution_count": 18,
     "metadata": {},
     "output_type": "execute_result"
    }
   ],
   "source": [
    "# 사용자 정의함수 예시\n",
    "# 임의의 갯수의 숫자를 입력받아서 총 합을 출력하는 함수\n",
    "def total_add( *a ) :\n",
    "    total = 0\n",
    "    for i in a :\n",
    "        total += i\n",
    "    return total\n",
    "\n",
    "total_add(1,2,3)"
   ]
  },
  {
   "cell_type": "code",
   "execution_count": 19,
   "id": "b1b2c213",
   "metadata": {},
   "outputs": [
    {
     "data": {
      "text/plain": [
       "6"
      ]
     },
     "execution_count": 19,
     "metadata": {},
     "output_type": "execute_result"
    }
   ],
   "source": [
    "# 사용자 정의함수 예시\n",
    "# 임의의 갯수 숫자를 입력받아서 가장 큰 값에서 가장 작은 값을 뺀 결과 출력하기\n",
    "def maxminus( *a ) :\n",
    "    m = 0\n",
    "    for i in a :\n",
    "        if i > m :\n",
    "            m = i\n",
    "            \n",
    "    n = 999999\n",
    "    for i in a :\n",
    "        if i < n :\n",
    "            n = i\n",
    "    return m - n\n",
    "\n",
    "maxminus(3,5,9)"
   ]
  },
  {
   "cell_type": "markdown",
   "id": "2eff4a10",
   "metadata": {},
   "source": [
    "### 모듈\n",
    "- 만들어 둔 코드를 저장한 후 다른 프로그램에서 불러서 사용하는 기능"
   ]
  },
  {
   "cell_type": "code",
   "execution_count": 2,
   "id": "6bc8899c",
   "metadata": {},
   "outputs": [
    {
     "ename": "ModuleNotFoundError",
     "evalue": "No module named 'ex_1'",
     "output_type": "error",
     "traceback": [
      "\u001b[1;31m---------------------------------------------------------------------------\u001b[0m",
      "\u001b[1;31mModuleNotFoundError\u001b[0m                       Traceback (most recent call last)",
      "Input \u001b[1;32mIn [2]\u001b[0m, in \u001b[0;36m<cell line: 2>\u001b[1;34m()\u001b[0m\n\u001b[0;32m      1\u001b[0m \u001b[38;5;66;03m# untitled를 ex_1으로 저장하고 아래 코드를 IDLE에서 실행\u001b[39;00m\n\u001b[1;32m----> 2\u001b[0m \u001b[38;5;28;01mimport\u001b[39;00m \u001b[38;5;21;01mex_1\u001b[39;00m\n\u001b[0;32m      3\u001b[0m ex_1\u001b[38;5;241m.\u001b[39mfunc_1()\n",
      "\u001b[1;31mModuleNotFoundError\u001b[0m: No module named 'ex_1'"
     ]
    }
   ],
   "source": [
    "# untitled를 ex_1으로 저장하고 아래 코드를 IDLE에서 실행\n",
    "import ex_1\n",
    "ex_1.func_1()\n",
    "# 원래 파이썬 파일을 정상적으로 불러와야 하는데 파일 경로 오류로 아래의 에러가 발생"
   ]
  },
  {
   "cell_type": "code",
   "execution_count": 3,
   "id": "e7006eee",
   "metadata": {},
   "outputs": [
    {
     "ename": "ModuleNotFoundError",
     "evalue": "No module named 'ex_2'",
     "output_type": "error",
     "traceback": [
      "\u001b[1;31m---------------------------------------------------------------------------\u001b[0m",
      "\u001b[1;31mModuleNotFoundError\u001b[0m                       Traceback (most recent call last)",
      "Input \u001b[1;32mIn [3]\u001b[0m, in \u001b[0;36m<cell line: 2>\u001b[1;34m()\u001b[0m\n\u001b[0;32m      1\u001b[0m \u001b[38;5;66;03m# untitled를 ex_2으로 저장하고 아래 코드를 IDLE에서 실행\u001b[39;00m\n\u001b[1;32m----> 2\u001b[0m \u001b[38;5;28;01mfrom\u001b[39;00m \u001b[38;5;21;01mex_2\u001b[39;00m \u001b[38;5;28;01mimport\u001b[39;00m func_1, func_2\n\u001b[0;32m      3\u001b[0m \u001b[38;5;28mprint\u001b[39m(ex_2\u001b[38;5;241m.\u001b[39mfunc_1())\n\u001b[0;32m      4\u001b[0m \u001b[38;5;28mprint\u001b[39m(ex_2\u001b[38;5;241m.\u001b[39mfunc_2())\n",
      "\u001b[1;31mModuleNotFoundError\u001b[0m: No module named 'ex_2'"
     ]
    }
   ],
   "source": [
    "# untitled를 ex_2으로 저장하고 아래 코드를 IDLE에서 실행\n",
    "from ex_2 import func_1, func_2\n",
    "print(ex_2.func_1())\n",
    "print(ex_2.func_2())\n",
    "print(ex_2.func_4()) # import 하지 않은 func_4는 출력할 수 없음\n",
    "# 원래 파이썬 파일을 정상적으로 불러와야 하는데 파일 경로 오류로 아래의 에러가 발생\n",
    "# 정상 실행 되어도 module 'ex_2' has no attribute 'func_4' 에러가 발생함"
   ]
  },
  {
   "cell_type": "markdown",
   "id": "2313ca8a",
   "metadata": {},
   "source": [
    "## 외부 모듈 설치\n",
    "- 설치 : 명령 프롬프트에 pip install numpy 입력\n",
    "- 버전을 지정하여 설치 : pip install numpy==1.16.4\n",
    "- 삭제 : 명령 프롬프트에 pip uninstall numpy 입력, Proceed 에 대해 y 입력"
   ]
  }
 ],
 "metadata": {
  "kernelspec": {
   "display_name": "Python 3 (ipykernel)",
   "language": "python",
   "name": "python3"
  },
  "language_info": {
   "codemirror_mode": {
    "name": "ipython",
    "version": 3
   },
   "file_extension": ".py",
   "mimetype": "text/x-python",
   "name": "python",
   "nbconvert_exporter": "python",
   "pygments_lexer": "ipython3",
   "version": "3.9.12"
  }
 },
 "nbformat": 4,
 "nbformat_minor": 5
}
